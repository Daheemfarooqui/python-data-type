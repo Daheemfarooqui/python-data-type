{
 "cells": [
  {
   "cell_type": "markdown",
   "id": "9c2bd87a-a0d2-4b7f-9b7c-13908dd56e85",
   "metadata": {},
   "source": [
    "# TOPIC: String Based Assignment Problem"
   ]
  },
  {
   "cell_type": "markdown",
   "id": "0cc3fd91-e418-4cd4-bb62-f0fbc6d66707",
   "metadata": {},
   "source": [
    "#  Q1. Write a program to reverse a string.\n"
   ]
  },
  {
   "cell_type": "code",
   "execution_count": 1,
   "id": "c9907c4e-05dd-470d-8abc-5692dc9beed1",
   "metadata": {},
   "outputs": [
    {
     "name": "stdin",
     "output_type": "stream",
     "text": [
      "Enter a string:  ddaheem\n"
     ]
    },
    {
     "name": "stdout",
     "output_type": "stream",
     "text": [
      "Reversed string: meehadd\n"
     ]
    }
   ],
   "source": [
    "def reverse_string(input_string):\n",
    "    reversed_string = input_string[::-1]\n",
    "    return reversed_string\n",
    "\n",
    "# Input string\n",
    "input_string = input(\"Enter a string: \")\n",
    "\n",
    "# Call the function to reverse the string\n",
    "reversed = reverse_string(input_string)\n",
    "\n",
    "# Print the reversed string\n",
    "print(\"Reversed string:\", reversed)\n",
    "\n"
   ]
  },
  {
   "cell_type": "markdown",
   "id": "9a59ca28-f779-46ba-a227-f74652304d7a",
   "metadata": {},
   "source": [
    "# Q2. Check if a string is a palindrome."
   ]
  },
  {
   "cell_type": "code",
   "execution_count": 3,
   "id": "92cc2607-3128-4ca0-a373-a88c9163a158",
   "metadata": {},
   "outputs": [
    {
     "name": "stdin",
     "output_type": "stream",
     "text": [
      "Enter a string:  daheem\n"
     ]
    },
    {
     "name": "stdout",
     "output_type": "stream",
     "text": [
      "The string is not a palindrome.\n"
     ]
    }
   ],
   "source": [
    "def is_palindrome(input_string):\n",
    "    clean_string = ''.join(filter(str.isalnum, input_string)).lower()\n",
    "    return clean_string == clean_string[::-1]\n",
    "\n",
    "# Input string\n",
    "input_string = input(\"Enter a string: \")\n",
    "\n",
    "# Check if it's a palindrome\n",
    "if is_palindrome(input_string):\n",
    "    print(\"The string is a palindrome.\")\n",
    "else:\n",
    "    print(\"The string is not a palindrome.\")\n"
   ]
  },
  {
   "cell_type": "markdown",
   "id": "6afb9c60-292e-46f6-b6c2-37df803f9ae2",
   "metadata": {},
   "source": [
    "# Q3. Convert a string to uppercase."
   ]
  },
  {
   "cell_type": "code",
   "execution_count": 4,
   "id": "ea8d51ba-6a62-43aa-b373-7bad0f90831e",
   "metadata": {},
   "outputs": [
    {
     "name": "stdin",
     "output_type": "stream",
     "text": [
      "Enter a string:  daheem\n"
     ]
    },
    {
     "name": "stdout",
     "output_type": "stream",
     "text": [
      "Uppercase string: DAHEEM\n"
     ]
    }
   ],
   "source": [
    "def convert_to_uppercase(input_string):\n",
    "    return input_string.upper()\n",
    "\n",
    "# Input string\n",
    "input_string = input(\"Enter a string: \")\n",
    "\n",
    "# Convert to uppercase\n",
    "uppercase_string = convert_to_uppercase(input_string)\n",
    "\n",
    "# Print the uppercase string\n",
    "print(\"Uppercase string:\", uppercase_string)\n"
   ]
  },
  {
   "cell_type": "markdown",
   "id": "f0bac750-a599-40cb-9abe-ab3b38c3eeb2",
   "metadata": {},
   "source": [
    "# Q4. Convert a string to lowercase."
   ]
  },
  {
   "cell_type": "code",
   "execution_count": 6,
   "id": "99e2a8f6-f668-4bd7-a6e6-f8a688a7ebf6",
   "metadata": {},
   "outputs": [
    {
     "name": "stdin",
     "output_type": "stream",
     "text": [
      "Enter a string:  DAHEEm\n"
     ]
    },
    {
     "name": "stdout",
     "output_type": "stream",
     "text": [
      "lowercase string: daheem\n"
     ]
    }
   ],
   "source": [
    "def convert_to_lowercase(input_string):\n",
    "    return input_string.lower()\n",
    "\n",
    "# Input string\n",
    "input_string = input(\"Enter a string: \")\n",
    "\n",
    "# Convert to lowercase\n",
    "lowercase_string = convert_to_lowercase(input_string)\n",
    "\n",
    "# Print the uppercase string\n",
    "print(\"lowercase string:\", lowercase_string)\n"
   ]
  },
  {
   "cell_type": "markdown",
   "id": "43beff1c-46c2-4b28-8227-de1d259b2d48",
   "metadata": {},
   "source": [
    "# Q5. Count the number of vowels in a string."
   ]
  },
  {
   "cell_type": "code",
   "execution_count": 7,
   "id": "fba1605d-c6f7-4cf8-9a65-91a3211c8cab",
   "metadata": {},
   "outputs": [
    {
     "name": "stdin",
     "output_type": "stream",
     "text": [
      "Enter a string:  daheem\n"
     ]
    },
    {
     "name": "stdout",
     "output_type": "stream",
     "text": [
      "Number of vowels: 3\n"
     ]
    }
   ],
   "source": [
    "def count_vowels(input_string):\n",
    "    return sum(1 for char in input_string if char.lower() in 'aeiou')\n",
    "\n",
    "# Input string\n",
    "input_string = input(\"Enter a string: \")\n",
    "\n",
    "# Count the number of vowels\n",
    "vowel_count = count_vowels(input_string)\n",
    "\n",
    "# Print the result\n",
    "print(\"Number of vowels:\", vowel_count)\n"
   ]
  },
  {
   "cell_type": "markdown",
   "id": "680b7ed3-6298-45bf-a95a-6ceaaa6af52c",
   "metadata": {},
   "source": [
    "# Q6. Count the number of consonants in a string."
   ]
  },
  {
   "cell_type": "code",
   "execution_count": null,
   "id": "a1783159-dba9-40ce-8fd8-3ca5abf94604",
   "metadata": {},
   "outputs": [],
   "source": [
    "def count_consonants(input_string):\n",
    "    consonants = 'bcdfghjklmnpqrstvwxyzBCDFGHJKLMNPQRSTVWXYZ'\n",
    "    return sum(1 for char in input_string if char in consonants)\n",
    "\n",
    "# Input string\n",
    "input_string = input(\"Enter a string: \")\n",
    "\n",
    "# Count the number of consonants\n",
    "consonant_count = count_consonants(input_string)\n",
    "\n",
    "# Print the result\n",
    "print(\"Number of consonants:\", consonant_count)\n"
   ]
  },
  {
   "cell_type": "markdown",
   "id": "0b042942-bb24-4b7a-a532-f58b287d95fa",
   "metadata": {},
   "source": [
    "# Q 7. Remove all whitespaces from a string."
   ]
  },
  {
   "cell_type": "code",
   "execution_count": 9,
   "id": "16c5e979-e774-43f2-b10b-289b98581a42",
   "metadata": {},
   "outputs": [
    {
     "name": "stdin",
     "output_type": "stream",
     "text": [
      "Enter a string:  njf efne fjenf ejfn frkf\n"
     ]
    },
    {
     "name": "stdout",
     "output_type": "stream",
     "text": [
      "String with whitespaces removed: njfefnefjenfejfnfrkf\n"
     ]
    }
   ],
   "source": [
    "def remove_whitespace(input_string):\n",
    "    return input_string.replace(\" \", \"\")\n",
    "\n",
    "# Input string\n",
    "input_string = input(\"Enter a string: \")\n",
    "\n",
    "# Remove whitespaces\n",
    "no_whitespace_string = remove_whitespace(input_string)\n",
    "\n",
    "# Print the result\n",
    "print(\"String with whitespaces removed:\", no_whitespace_string)\n"
   ]
  },
  {
   "cell_type": "markdown",
   "id": "3ba2165f-4999-438a-bb60-83ecc4ef967a",
   "metadata": {},
   "source": [
    "# Q8. Find the length of a string without using the `len()` function."
   ]
  },
  {
   "cell_type": "code",
   "execution_count": 10,
   "id": "1dff4407-609d-4ce2-82ae-0dd07e7d4ea8",
   "metadata": {},
   "outputs": [
    {
     "name": "stdin",
     "output_type": "stream",
     "text": [
      "Enter a string:  fmfmytyvtffl,,fllllllllllllllll\n"
     ]
    },
    {
     "name": "stdout",
     "output_type": "stream",
     "text": [
      "Length of the string: 31\n"
     ]
    }
   ],
   "source": [
    "def string_length(input_string):\n",
    "    count = 0\n",
    "    for _ in input_string:\n",
    "        count += 1\n",
    "    return count\n",
    "\n",
    "# Input string\n",
    "input_string = input(\"Enter a string: \")\n",
    "\n",
    "# Calculate the length without using len()\n",
    "length = string_length(input_string)\n",
    "\n",
    "# Print the length of the string\n",
    "print(\"Length of the string:\", length)\n"
   ]
  },
  {
   "cell_type": "markdown",
   "id": "81523284-0ac4-4da5-8257-6ea07fa4ecd4",
   "metadata": {},
   "source": [
    "# Q9. Check if a string contains a specific word."
   ]
  },
  {
   "cell_type": "code",
   "execution_count": 11,
   "id": "76508c95-4872-4544-81a3-d9d8a46fba28",
   "metadata": {},
   "outputs": [
    {
     "ename": "SyntaxError",
     "evalue": "invalid syntax (1803980642.py, line 1)",
     "output_type": "error",
     "traceback": [
      "\u001b[0;36m  Cell \u001b[0;32mIn[11], line 1\u001b[0;36m\u001b[0m\n\u001b[0;31m    I CANT TO THIS QUESTION\u001b[0m\n\u001b[0m      ^\u001b[0m\n\u001b[0;31mSyntaxError\u001b[0m\u001b[0;31m:\u001b[0m invalid syntax\n"
     ]
    }
   ],
   "source": [
    "I CANT TO THIS QUESTION"
   ]
  },
  {
   "cell_type": "markdown",
   "id": "6c382cfe-9209-46de-afb4-c3d693effc85",
   "metadata": {},
   "source": [
    "# Q10. Replace a word in a string with another word."
   ]
  },
  {
   "cell_type": "code",
   "execution_count": 12,
   "id": "66a2ee4c-9072-4810-aee1-d9779ad55ac0",
   "metadata": {},
   "outputs": [
    {
     "name": "stdin",
     "output_type": "stream",
     "text": [
      "Enter a string:  DAHEEM\n",
      "Enter the word to replace:  FAROOQUI\n",
      "Enter the new word:  AHMAD\n"
     ]
    },
    {
     "name": "stdout",
     "output_type": "stream",
     "text": [
      "Modified string: DAHEEM\n"
     ]
    }
   ],
   "source": [
    "input_string = input(\"Enter a string: \")\n",
    "\n",
    "# Input old word to replace\n",
    "old_word = input(\"Enter the word to replace: \")\n",
    "\n",
    "# Input new word\n",
    "new_word = input(\"Enter the new word: \")\n",
    "\n",
    "# Replace the old word with the new word and print the modified string\n",
    "modified_string = input_string.replace(old_word, new_word)\n",
    "print(\"Modified string:\", modified_string)\n"
   ]
  },
  {
   "cell_type": "markdown",
   "id": "a89f9b66-739b-4345-92b5-3a00286bb032",
   "metadata": {},
   "source": [
    "# Q11. Count the occurrences of a word in a string."
   ]
  },
  {
   "cell_type": "code",
   "execution_count": 13,
   "id": "faccb757-063a-4ae1-bc36-ef8b4a136023",
   "metadata": {},
   "outputs": [
    {
     "name": "stdin",
     "output_type": "stream",
     "text": [
      "Enter a string:  hvyh\n",
      "Enter the word to count:  4\n"
     ]
    },
    {
     "name": "stdout",
     "output_type": "stream",
     "text": [
      "The word '4' appears 0 times in the string.\n"
     ]
    }
   ],
   "source": [
    "# Input string\n",
    "input_string = input(\"Enter a string: \")\n",
    "\n",
    "# Input word to count\n",
    "word_to_count = input(\"Enter the word to count: \")\n",
    "\n",
    "# Count the occurrences of the word, case-insensitive\n",
    "word_count = input_string.lower().count(word_to_count.lower())\n",
    "\n",
    "# Print the result\n",
    "print(f\"The word '{word_to_count}' appears {word_count} times in the string.\")\n"
   ]
  },
  {
   "cell_type": "markdown",
   "id": "d5b2f655-d7b2-4d5d-a33d-2b4be2f11623",
   "metadata": {},
   "source": [
    "# Q12. Find the first occurrence of a word in a string."
   ]
  },
  {
   "cell_type": "code",
   "execution_count": 14,
   "id": "e265b951-5a89-4e07-9a79-d62553338e4b",
   "metadata": {},
   "outputs": [
    {
     "name": "stdin",
     "output_type": "stream",
     "text": [
      "Enter a string:  daheem\n",
      "Enter the word to find:  h\n"
     ]
    },
    {
     "name": "stdout",
     "output_type": "stream",
     "text": [
      "The word 'h' first appears at index 2 in the string.\n"
     ]
    }
   ],
   "source": [
    "# Input string\n",
    "input_string = input(\"Enter a string: \")\n",
    "\n",
    "# Input word to find\n",
    "word_to_find = input(\"Enter the word to find: \")\n",
    "\n",
    "# Find the first occurrence of the word\n",
    "index = input_string.lower().find(word_to_find.lower())\n",
    "\n",
    "if index != -1:\n",
    "    print(f\"The word '{word_to_find}' first appears at index {index} in the string.\")\n",
    "else:\n",
    "    print(f\"The word '{word_to_find}' was not found in the string.\")\n"
   ]
  },
  {
   "cell_type": "markdown",
   "id": "32bb82b1-6ed3-4d49-b045-8cee847b544d",
   "metadata": {},
   "source": [
    "# Q13. Find the last occurrence of a word in a string."
   ]
  },
  {
   "cell_type": "code",
   "execution_count": 16,
   "id": "8838380a-7f31-43e6-86e7-c0cc983e9232",
   "metadata": {},
   "outputs": [
    {
     "name": "stdin",
     "output_type": "stream",
     "text": [
      "Enter a string:  daheem\n",
      "Enter the word to find:  m\n"
     ]
    },
    {
     "name": "stdout",
     "output_type": "stream",
     "text": [
      "The word 'm' last appears at index 5 in the string.\n"
     ]
    }
   ],
   "source": [
    "# Input string\n",
    "input_string = input(\"Enter a string: \")\n",
    "\n",
    "# Input word to find\n",
    "word_to_find = input(\"Enter the word to find: \")\n",
    "\n",
    "# Initialize the index of the last occurrence to -1\n",
    "last_index = -1\n",
    "\n",
    "# Start searching for the word\n",
    "index = input_string.lower().find(word_to_find.lower())\n",
    "\n",
    "while index != -1:\n",
    "    last_index = index\n",
    "    index = input_string.lower().find(word_to_find.lower(), index + 1)\n",
    "\n",
    "if last_index != -1:\n",
    "    print(f\"The word '{word_to_find}' last appears at index {last_index} in the string.\")\n",
    "else:\n",
    "    print(f\"The word '{word_to_find}' was not found in the string.\")\n"
   ]
  },
  {
   "cell_type": "markdown",
   "id": "a6e5d8c9-a7ef-4d60-9294-e51bdb92f089",
   "metadata": {},
   "source": [
    "# Q14. Split a string into a list of words."
   ]
  },
  {
   "cell_type": "code",
   "execution_count": 17,
   "id": "95743adc-a612-492c-8978-e7fa666014da",
   "metadata": {},
   "outputs": [
    {
     "name": "stdin",
     "output_type": "stream",
     "text": [
      "Enter a string:  daheem\n"
     ]
    },
    {
     "name": "stdout",
     "output_type": "stream",
     "text": [
      "List of words: ['daheem']\n"
     ]
    }
   ],
   "source": [
    "# Input string\n",
    "input_string = input(\"Enter a string: \")\n",
    "\n",
    "# Split the string into a list of words\n",
    "word_list = input_string.split()\n",
    "\n",
    "# Print the list of words\n",
    "print(\"List of words:\", word_list)\n"
   ]
  },
  {
   "cell_type": "markdown",
   "id": "a8f5e32b-c027-4af3-92a7-64c29ca541d9",
   "metadata": {},
   "source": [
    "# Q15. Join a list of words into a string."
   ]
  },
  {
   "cell_type": "code",
   "execution_count": null,
   "id": "240bdbaa-659b-4e69-8b25-d7899fbb05fa",
   "metadata": {},
   "outputs": [],
   "source": [
    "# Input list of words\n",
    "word_list = input(\"Enter a list of words separated by spaces: \").split()\n",
    "\n",
    "# Join the list of words into a string\n",
    "result_string = ' '.join(word_list)\n",
    "\n",
    "# Print the resulting string\n",
    "print(\"Resulting string:\", result_string)\n"
   ]
  },
  {
   "cell_type": "markdown",
   "id": "c844b30c-060c-4c33-a978-c4693dd7e922",
   "metadata": {},
   "source": [
    "# Q17. Check if a string starts with a specific word or phrase."
   ]
  },
  {
   "cell_type": "code",
   "execution_count": null,
   "id": "34dc1719-50bb-473f-92b7-e9e4d8b4a81c",
   "metadata": {},
   "outputs": [],
   "source": []
  },
  {
   "cell_type": "markdown",
   "id": "b91b751c-259a-4af3-ad09-9f11cd32abd1",
   "metadata": {},
   "source": [
    "# Q19. Convert a string to title case (e.g., \"hello world\" to \"Hello World\")."
   ]
  },
  {
   "cell_type": "code",
   "execution_count": 2,
   "id": "40a1dc0f-a857-4b64-a2bc-15c2421c4717",
   "metadata": {},
   "outputs": [
    {
     "name": "stdin",
     "output_type": "stream",
     "text": [
      "Enter a string:  hello word\n"
     ]
    },
    {
     "name": "stdout",
     "output_type": "stream",
     "text": [
      "Title case string: Hello Word\n"
     ]
    }
   ],
   "source": [
    "# Get user input for the string\n",
    "input_string = input(\"Enter a string: \")\n",
    "\n",
    "# Convert the string to title case\n",
    "title_case_string = input_string.title()\n",
    "\n",
    "# Print the title case string\n",
    "print(\"Title case string:\", title_case_string)\n"
   ]
  },
  {
   "cell_type": "markdown",
   "id": "bf7940cd-0be9-4ced-a11c-28370646fab2",
   "metadata": {},
   "source": [
    "# Q20. Find the longest word in a string."
   ]
  },
  {
   "cell_type": "code",
   "execution_count": 3,
   "id": "4c36cc21-dc07-4241-9a43-f2f4e9bca8dc",
   "metadata": {},
   "outputs": [
    {
     "name": "stdin",
     "output_type": "stream",
     "text": [
      "Enter a string:  daheem ahmad farooqui\n"
     ]
    },
    {
     "name": "stdout",
     "output_type": "stream",
     "text": [
      "The longest word in the string is: farooqui (8 characters)\n"
     ]
    }
   ],
   "source": [
    "# Get user input for the string\n",
    "input_string = input(\"Enter a string: \")\n",
    "\n",
    "# Split the string into words\n",
    "words = input_string.split()\n",
    "\n",
    "# Initialize variables to store the longest word and its length\n",
    "longest_word = \"\"\n",
    "max_length = 0\n",
    "\n",
    "# Iterate through the words to find the longest one\n",
    "for word in words:\n",
    "    if len(word) > max_length:\n",
    "        max_length = len(word)\n",
    "        longest_word = word\n",
    "\n",
    "# Print the longest word\n",
    "if longest_word:\n",
    "    print(f\"The longest word in the string is: {longest_word} ({max_length} characters)\")\n",
    "else:\n",
    "    print(\"No words found in the string.\")\n"
   ]
  },
  {
   "cell_type": "markdown",
   "id": "19e5ee75-de09-4917-b138-6605b0c71cee",
   "metadata": {},
   "source": [
    "# Q21. Find the shortest word in a string."
   ]
  },
  {
   "cell_type": "code",
   "execution_count": 4,
   "id": "3f6b5005-7f68-4b88-9be8-dc2b651f47fe",
   "metadata": {},
   "outputs": [
    {
     "name": "stdin",
     "output_type": "stream",
     "text": [
      "Enter a string:  daheem ahmad farooqui\n"
     ]
    },
    {
     "name": "stdout",
     "output_type": "stream",
     "text": [
      "The shortest word in the string is: ahmad (5 characters)\n"
     ]
    }
   ],
   "source": [
    "# Get user input for the string\n",
    "input_string = input(\"Enter a string: \")\n",
    "\n",
    "# Split the string into words\n",
    "words = input_string.split()\n",
    "\n",
    "# Initialize variables to store the shortest word and its length\n",
    "shortest_word = None\n",
    "min_length = float('inf')  # Set to positive infinity initially\n",
    "\n",
    "# Iterate through the words to find the shortest one\n",
    "for word in words:\n",
    "    if len(word) < min_length:\n",
    "        min_length = len(word)\n",
    "        shortest_word = word\n",
    "\n",
    "# Print the shortest word\n",
    "if shortest_word:\n",
    "    print(f\"The shortest word in the string is: {shortest_word} ({min_length} characters)\")\n",
    "else:\n",
    "    print(\"No words found in the string.\")\n"
   ]
  },
  {
   "cell_type": "markdown",
   "id": "ea5d93a4-2cff-4b2a-9386-0522ae6d7f1f",
   "metadata": {},
   "source": [
    "# Q22. Reverse the order of words in a string."
   ]
  },
  {
   "cell_type": "code",
   "execution_count": 7,
   "id": "abd34d62-dc64-4d15-ba39-11ef035e1311",
   "metadata": {},
   "outputs": [
    {
     "name": "stdin",
     "output_type": "stream",
     "text": [
      "Enter a string:  daheem ahmd farooqui\n"
     ]
    },
    {
     "name": "stdout",
     "output_type": "stream",
     "text": [
      "String with reversed word order: farooqui ahmd daheem\n"
     ]
    }
   ],
   "source": [
    "# Get user input for the string\n",
    "input_string = input(\"Enter a string: \")\n",
    "\n",
    "# Split the string into words, reverse the order, and join them back into a string\n",
    "reversed_string = ' '.join(reversed(input_string.split()))\n",
    "\n",
    "# Print the string with reversed word order\n",
    "print(\"String with reversed word order:\", reversed_string)\n"
   ]
  },
  {
   "cell_type": "markdown",
   "id": "b21dc289-56d0-4af0-b125-63d4dd755d6d",
   "metadata": {},
   "source": [
    "# Q23. Check if a string is alphanumeric."
   ]
  },
  {
   "cell_type": "code",
   "execution_count": 12,
   "id": "7f15f37a-dcfd-44a2-b6ed-1bdf418ef3ec",
   "metadata": {},
   "outputs": [
    {
     "name": "stdin",
     "output_type": "stream",
     "text": [
      "Enter a string:  daheem@123\n"
     ]
    },
    {
     "name": "stdout",
     "output_type": "stream",
     "text": [
      "The string is not alphanumeric.\n"
     ]
    }
   ],
   "source": [
    "# Get user input for the string\n",
    "input_string = input(\"Enter a string: \")\n",
    "\n",
    "# Check if the string is alphanumeric\n",
    "if input_string.isalnum():\n",
    "    print(\"The string is alphanumeric.\")\n",
    "else:\n",
    "    print(\"The string is not alphanumeric.\")\n"
   ]
  },
  {
   "cell_type": "markdown",
   "id": "304a0a18-dbd1-4763-9a8d-21fc5eb0922b",
   "metadata": {},
   "source": [
    "# Q24. Extract all digits from a string."
   ]
  },
  {
   "cell_type": "code",
   "execution_count": 13,
   "id": "87e141a1-b502-49be-aabe-7710a2179ef9",
   "metadata": {},
   "outputs": [
    {
     "name": "stdin",
     "output_type": "stream",
     "text": [
      "Enter a string:  daheem1234567890\n"
     ]
    },
    {
     "name": "stdout",
     "output_type": "stream",
     "text": [
      "Extracted digits: 1234567890\n"
     ]
    }
   ],
   "source": [
    "# Get user input for the string\n",
    "input_string = input(\"Enter a string: \")\n",
    "\n",
    "# Use a list comprehension to extract digits from the string\n",
    "extracted_digits = ''.join([char for char in input_string if char.isdigit()])\n",
    "\n",
    "# Print the extracted digits\n",
    "if extracted_digits:\n",
    "    print(\"Extracted digits:\", extracted_digits)\n",
    "else:\n",
    "    print(\"No digits found in the string.\")\n"
   ]
  },
  {
   "cell_type": "markdown",
   "id": "5f05d19f-ab64-4e4e-9e15-89fdb2c73d89",
   "metadata": {},
   "source": [
    "# Q25. Extract all alphabets from a string."
   ]
  },
  {
   "cell_type": "code",
   "execution_count": 14,
   "id": "ace71706-a12d-4335-a6bd-35fd94adab79",
   "metadata": {},
   "outputs": [
    {
     "name": "stdin",
     "output_type": "stream",
     "text": [
      "Enter a string:  dahem64855813446\n"
     ]
    },
    {
     "name": "stdout",
     "output_type": "stream",
     "text": [
      "Extracted letters: dahem\n"
     ]
    }
   ],
   "source": [
    "# Get user input for the string\n",
    "input_string = input(\"Enter a string: \")\n",
    "\n",
    "# Use a list comprehension to extract alphabetic characters from the string\n",
    "extracted_letters = ''.join([char for char in input_string if char.isalpha()])\n",
    "\n",
    "# Print the extracted letters\n",
    "if extracted_letters:\n",
    "    print(\"Extracted letters:\", extracted_letters)\n",
    "else:\n",
    "    print(\"No letters found in the string.\")\n"
   ]
  },
  {
   "cell_type": "markdown",
   "id": "a908f613-bf66-45f3-ab8e-35186e9f467d",
   "metadata": {},
   "source": [
    "# Q26. Count the number of uppercase letters in a string."
   ]
  },
  {
   "cell_type": "code",
   "execution_count": 15,
   "id": "d617463c-0c3e-42ff-877f-224c88f401b9",
   "metadata": {},
   "outputs": [
    {
     "name": "stdin",
     "output_type": "stream",
     "text": [
      "Enter a string:  daheem Farooqui \n"
     ]
    },
    {
     "name": "stdout",
     "output_type": "stream",
     "text": [
      "Number of uppercase letters: 1\n"
     ]
    }
   ],
   "source": [
    "# Get user input for the string\n",
    "input_string = input(\"Enter a string: \")\n",
    "\n",
    "# Initialize a variable to keep track of the count of uppercase letters\n",
    "uppercase_count = 0\n",
    "\n",
    "# Iterate through the characters in the string and count uppercase letters\n",
    "for char in input_string:\n",
    "    if char.isupper():\n",
    "        uppercase_count += 1\n",
    "\n",
    "# Print the count of uppercase letters\n",
    "print(\"Number of uppercase letters:\", uppercase_count)\n"
   ]
  },
  {
   "cell_type": "markdown",
   "id": "50fff2f7-0a00-4a27-a4b7-87603a77c23a",
   "metadata": {},
   "source": [
    "# Q27. Count the number of lowercase letters in a string."
   ]
  },
  {
   "cell_type": "code",
   "execution_count": 16,
   "id": "b2e2098c-0829-4cdc-a3cf-87b089e83197",
   "metadata": {},
   "outputs": [
    {
     "name": "stdin",
     "output_type": "stream",
     "text": [
      "Enter a string:  DAhewe\n"
     ]
    },
    {
     "name": "stdout",
     "output_type": "stream",
     "text": [
      "Number of lowercase letters: 4\n"
     ]
    }
   ],
   "source": [
    "# Get user input for the string\n",
    "input_string = input(\"Enter a string: \")\n",
    "\n",
    "# Initialize a variable to keep track of the count of lowercase letters\n",
    "lowercase_count = 0\n",
    "\n",
    "# Iterate through the characters in the string and count lowercase letters\n",
    "for char in input_string:\n",
    "    if char.islower():\n",
    "        lowercase_count += 1\n",
    "\n",
    "# Print the count of lowercase letters\n",
    "print(\"Number of lowercase letters:\", lowercase_count)\n",
    "\n"
   ]
  },
  {
   "cell_type": "markdown",
   "id": "41986129-290c-4d4b-8c07-a4fe7d068ca3",
   "metadata": {},
   "source": [
    "# Q29. Remove a specific word from a string."
   ]
  },
  {
   "cell_type": "code",
   "execution_count": null,
   "id": "4b684bcf-3d49-4f94-bad6-1e52df66f221",
   "metadata": {},
   "outputs": [],
   "source": [
    "# Get user input for the string\n",
    "input_string = input(\"Enter a string: \")\n",
    "\n",
    "# Get user input for the word to remove\n",
    "word_to_remove = input(\"Enter the word to remove: \")\n",
    "\n",
    "# Remove the specified word from the string\n",
    "result_string = input_string.replace(word_to_remove, \"\")\n",
    "\n",
    "# Print the string with the specified word removed\n",
    "print(\"String with the word removed:\", result_string)\n"
   ]
  },
  {
   "cell_type": "markdown",
   "id": "7d32b3bd-0867-49bd-86d4-a46bd4bb1204",
   "metadata": {},
   "source": [
    "# Q30. Check if a string is a valid email address."
   ]
  },
  {
   "cell_type": "code",
   "execution_count": 18,
   "id": "cd286525-b5da-4ee7-81e4-0bb1c9ffc3c9",
   "metadata": {},
   "outputs": [
    {
     "name": "stdin",
     "output_type": "stream",
     "text": [
      "Enter an email address:  hvh\n"
     ]
    },
    {
     "name": "stdout",
     "output_type": "stream",
     "text": [
      "Invalid email address.\n"
     ]
    }
   ],
   "source": [
    "import re\n",
    "\n",
    "# Get user input for the email address\n",
    "email = input(\"Enter an email address: \")\n",
    "\n",
    "# Define a regular expression pattern for a simple email address check\n",
    "email_pattern = r\"^[a-zA-Z0-9._%+-]+@[a-zA-Z0-9.-]+\\.[a-zA-Z]{2,}$\"\n",
    "\n",
    "# Check if the input matches the email pattern\n",
    "if re.match(email_pattern, email):\n",
    "    print(\"Valid email address.\")\n",
    "else:\n",
    "    print(\"Invalid email address.\")\n"
   ]
  },
  {
   "cell_type": "markdown",
   "id": "88754eac-c0f9-4162-992b-24bf03616237",
   "metadata": {},
   "source": [
    "# Q31. Extract the username from an email address string."
   ]
  },
  {
   "cell_type": "code",
   "execution_count": 21,
   "id": "9de3a5bb-0c8f-4415-9e22-de2e92b7a230",
   "metadata": {},
   "outputs": [
    {
     "name": "stdin",
     "output_type": "stream",
     "text": [
      "Enter an email address:  vyghgc@gmail.com\n"
     ]
    },
    {
     "name": "stdout",
     "output_type": "stream",
     "text": [
      "Extracted username: vyghgc\n"
     ]
    }
   ],
   "source": [
    "# Get user input for the email address\n",
    "email = input(\"Enter an email address: \")\n",
    "\n",
    "# Use the split method to extract the username\n",
    "username = email.split('@')[0]\n",
    "\n",
    "# Print the extracted username\n",
    "print(\"Extracted username:\", username)\n"
   ]
  },
  {
   "cell_type": "markdown",
   "id": "e5a6f446-df33-41dd-b41b-4e2c2fb0538f",
   "metadata": {},
   "source": [
    "# Q32. Extract the domain name from an email address string."
   ]
  },
  {
   "cell_type": "code",
   "execution_count": 22,
   "id": "e92da48d-d3d2-4e29-a89c-f25968e6e836",
   "metadata": {},
   "outputs": [
    {
     "name": "stdin",
     "output_type": "stream",
     "text": [
      "Enter an email address:  gcckgkok@gmail.com\n"
     ]
    },
    {
     "name": "stdout",
     "output_type": "stream",
     "text": [
      "Extracted domain name: gmail.com\n"
     ]
    }
   ],
   "source": [
    "# Get user input for the email address\n",
    "email = input(\"Enter an email address: \")\n",
    "\n",
    "# Use the split method to extract the domain name\n",
    "domain = email.split('@')[1]\n",
    "\n",
    "# Print the extracted domain name\n",
    "print(\"Extracted domain name:\", domain)\n"
   ]
  },
  {
   "cell_type": "markdown",
   "id": "fd9b3cb0-5085-446c-95da-602ac5ff30ad",
   "metadata": {},
   "source": [
    "# Q35. Extract the protocol (http or https) from a URL string."
   ]
  },
  {
   "cell_type": "code",
   "execution_count": 24,
   "id": "948cb14a-709b-4323-9872-62d903fa1f51",
   "metadata": {},
   "outputs": [
    {
     "name": "stdin",
     "output_type": "stream",
     "text": [
      "Enter a URL:  https://www.google.com/\n"
     ]
    },
    {
     "name": "stdout",
     "output_type": "stream",
     "text": [
      "Extracted protocol: https://\n"
     ]
    }
   ],
   "source": [
    "import re\n",
    "\n",
    "# Get user input for the URL\n",
    "url = input(\"Enter a URL: \")\n",
    "\n",
    "# Define a regular expression pattern to extract the protocol\n",
    "protocol_pattern = r\"^(https?://)\"\n",
    "\n",
    "# Use re.search to find the protocol in the URL\n",
    "match = re.search(protocol_pattern, url)\n",
    "\n",
    "if match:\n",
    "    protocol = match.group(1)\n",
    "    print(\"Extracted protocol:\", protocol)\n",
    "else:\n",
    "    print(\"No protocol found in the URL.\")\n"
   ]
  },
  {
   "cell_type": "markdown",
   "id": "4e3a229d-492d-473d-b982-2fb460db3308",
   "metadata": {},
   "source": [
    "# Q38. Check if a string contains only digits."
   ]
  },
  {
   "cell_type": "code",
   "execution_count": 26,
   "id": "0ca512d8-7d48-4084-ae7c-9661ddd160f8",
   "metadata": {},
   "outputs": [
    {
     "name": "stdin",
     "output_type": "stream",
     "text": [
      "Enter a string:  48425\n"
     ]
    },
    {
     "name": "stdout",
     "output_type": "stream",
     "text": [
      "The string contains only digits.\n"
     ]
    }
   ],
   "source": [
    "# Get user input for the string\n",
    "input_string = input(\"Enter a string: \")\n",
    "\n",
    "# Check if the string contains only digits\n",
    "if input_string.isdigit():\n",
    "    print(\"The string contains only digits.\")\n",
    "else:\n",
    "    print(\"The string does not contain only digits.\")\n"
   ]
  },
  {
   "cell_type": "markdown",
   "id": "9eef48fa-a378-465d-b892-4acff790b182",
   "metadata": {},
   "source": [
    "# Q39. Check if a string contains only alphabets."
   ]
  },
  {
   "cell_type": "code",
   "execution_count": 27,
   "id": "13baf5af-f023-4002-b55c-db348d89f910",
   "metadata": {},
   "outputs": [
    {
     "name": "stdin",
     "output_type": "stream",
     "text": [
      "Enter a string:  ddefrf\n"
     ]
    },
    {
     "name": "stdout",
     "output_type": "stream",
     "text": [
      "The string contains only alphabetic characters.\n"
     ]
    }
   ],
   "source": [
    "# Get user input for the string\n",
    "input_string = input(\"Enter a string: \")\n",
    "\n",
    "# Check if the string contains only alphabetic characters\n",
    "if input_string.isalpha():\n",
    "    print(\"The string contains only alphabetic characters.\")\n",
    "else:\n",
    "    print(\"The string does not contain only alphabetic characters.\")\n"
   ]
  },
  {
   "cell_type": "markdown",
   "id": "11d5999b-cb51-48d2-9685-a5d9e3b1f2dc",
   "metadata": {},
   "source": [
    "# Q40. Convert a string to a list of characters."
   ]
  },
  {
   "cell_type": "code",
   "execution_count": 28,
   "id": "59a31192-2930-49a2-8444-ad645507a2bd",
   "metadata": {},
   "outputs": [
    {
     "name": "stdin",
     "output_type": "stream",
     "text": [
      "Enter a string:  122564\n"
     ]
    },
    {
     "name": "stdout",
     "output_type": "stream",
     "text": [
      "List of characters: ['1', '2', '2', '5', '6', '4']\n"
     ]
    }
   ],
   "source": [
    "# Get user input for the string\n",
    "input_string = input(\"Enter a string: \")\n",
    "\n",
    "# Convert the string to a list of characters\n",
    "char_list = list(input_string)\n",
    "\n",
    "# Print the list of characters\n",
    "print(\"List of characters:\", char_list)\n"
   ]
  },
  {
   "cell_type": "markdown",
   "id": "5a2ee0a7-56b4-4d02-9453-1584fa19bfc2",
   "metadata": {},
   "source": [
    "# Q44. Find the most frequent word in a string."
   ]
  },
  {
   "cell_type": "code",
   "execution_count": null,
   "id": "a15eb86d-f3db-4ba2-9cf1-e0fc71b7b92f",
   "metadata": {},
   "outputs": [],
   "source": []
  },
  {
   "cell_type": "markdown",
   "id": "156f9c26-f3bf-419c-b008-748a9667852f",
   "metadata": {},
   "source": [
    "# Q45. Find all unique words in a string."
   ]
  },
  {
   "cell_type": "code",
   "execution_count": 34,
   "id": "d483bf01-2ca3-4022-947d-c4a2878d3541",
   "metadata": {},
   "outputs": [
    {
     "name": "stdin",
     "output_type": "stream",
     "text": [
      "Enter a string:  ffff\n"
     ]
    },
    {
     "name": "stdout",
     "output_type": "stream",
     "text": [
      "Unique words in the string: ['ffff']\n"
     ]
    }
   ],
   "source": [
    "# Get user input for the string\n",
    "input_string = input(\"Enter a string: \")\n",
    "\n",
    "# Split the string into words\n",
    "words = input_string.split()\n",
    "\n",
    "# Create a set to store unique words\n",
    "unique_words = set(words)\n",
    "\n",
    "# Print the unique words\n",
    "if unique_words:\n",
    "    print(\"Unique words in the string:\", sorted(unique_words))\n",
    "else:\n",
    "    print(\"No words found in the string.\")\n"
   ]
  },
  {
   "cell_type": "markdown",
   "id": "e8907bdb-d356-4b50-82fa-d7f74a532cfd",
   "metadata": {},
   "source": [
    "# Q47. Check if a string contains any special characters."
   ]
  },
  {
   "cell_type": "code",
   "execution_count": null,
   "id": "739e54af-2bd6-4b87-b009-41dcb73a371d",
   "metadata": {},
   "outputs": [],
   "source": [
    "# Get user input for the string\n",
    "input_string = input(\"Enter a string: \")\n",
    "\n",
    "# Check if the string contains special characters\n",
    "if not input_string.isalnum():\n",
    "    print(\"The string contains special characters.\")\n",
    "else:\n",
    "    print(\"The string does not contain special characters.\")\n"
   ]
  },
  {
   "cell_type": "markdown",
   "id": "24a4e9c1-8b66-47ab-8492-afd8f102e7b2",
   "metadata": {},
   "source": [
    "# List Based Practice Problem :"
   ]
  },
  {
   "cell_type": "markdown",
   "id": "cabce1fc-a44f-4d4d-850d-48a44e056b90",
   "metadata": {},
   "source": [
    "# Q1. Create a list with integers from 1 to 10."
   ]
  },
  {
   "cell_type": "code",
   "execution_count": 2,
   "id": "3c7f33e0-a26a-43c6-8820-6bdda0ad8a28",
   "metadata": {},
   "outputs": [
    {
     "name": "stdout",
     "output_type": "stream",
     "text": [
      "[1, 2, 3, 4, 5, 6, 7, 8, 9, 10]\n"
     ]
    }
   ],
   "source": [
    "my_list = [1, 2, 3, 4, 5, 6, 7, 8, 9, 10]\n",
    "print(my_list)"
   ]
  },
  {
   "cell_type": "markdown",
   "id": "c64233a5-0664-4790-af0a-fe419923358b",
   "metadata": {},
   "source": [
    " # Q2. Find the length of a list without using the `len()` function."
   ]
  },
  {
   "cell_type": "code",
   "execution_count": null,
   "id": "02feb249-8c90-4a6a-bec5-f96a04ffc535",
   "metadata": {},
   "outputs": [],
   "source": [
    "my_list = [1, 2, 3, 4, 5, 6, 7, 8, 9, 10]\n",
    "\n",
    "# Initialize a count variable to 0\n",
    "count = 0\n",
    "\n",
    "# Iterate through the list and increment the count for each element\n",
    "for _ in my_list:\n",
    "    count += 1\n",
    "\n",
    "# The count variable now holds the length of the list\n",
    "print(\"The length of the list is:\", count)\n"
   ]
  },
  {
   "cell_type": "markdown",
   "id": "045fc136-01fb-42c9-96e6-b0accf30d3a6",
   "metadata": {},
   "source": [
    "# Q3. Append an element to the end of a list."
   ]
  },
  {
   "cell_type": "code",
   "execution_count": 3,
   "id": "cca29fef-1f49-4048-b1dd-7a172e9c5dda",
   "metadata": {},
   "outputs": [
    {
     "name": "stdout",
     "output_type": "stream",
     "text": [
      "The length of the list is: 10\n"
     ]
    }
   ],
   "source": [
    "my_list = [1, 2, 3, 4, 5, 6, 7, 8, 9, 10]\n",
    "\n",
    "count = 0\n",
    "\n",
    "for _ in my_list:\n",
    "    count += 1\n",
    "\n",
    "print(\"The length of the list is:\", count)\n"
   ]
  },
  {
   "cell_type": "markdown",
   "id": "cd1e2a1d-b274-4777-a681-f470eb430cc3",
   "metadata": {},
   "source": [
    "# Q4. Insert an element at a specific index in a list."
   ]
  },
  {
   "cell_type": "code",
   "execution_count": 4,
   "id": "00e19ace-ef7f-4f0d-bc50-c387f08f177f",
   "metadata": {},
   "outputs": [
    {
     "name": "stdout",
     "output_type": "stream",
     "text": [
      "[1, 2, 10, 3, 4, 5]\n"
     ]
    }
   ],
   "source": [
    "my_list = [1, 2, 3, 4, 5]\n",
    "my_list.insert(2, 10)\n",
    "print(my_list)\n"
   ]
  },
  {
   "cell_type": "markdown",
   "id": "178498d1-1004-46b4-9b0d-b4c6dfc2bbe1",
   "metadata": {},
   "source": [
    "# Q5. Remove an element from a list by its value."
   ]
  },
  {
   "cell_type": "code",
   "execution_count": 5,
   "id": "6a3d72b9-e7cc-4fc7-8d1c-a4e79dcfe2db",
   "metadata": {},
   "outputs": [
    {
     "name": "stdout",
     "output_type": "stream",
     "text": [
      "[1, 2, 4, 5]\n"
     ]
    }
   ],
   "source": [
    "my_list = [1, 2, 3, 4, 5]\n",
    "\n",
    "# Remove the element with the value 3\n",
    "my_list.remove(3)\n",
    "\n",
    "# The list will now be [1, 2, 4, 5]\n",
    "print(my_list)\n"
   ]
  },
  {
   "cell_type": "markdown",
   "id": "25c12fce-961d-4528-9571-4ded2fb50893",
   "metadata": {},
   "source": [
    "# Q6. Remove an element from a list by its index."
   ]
  },
  {
   "cell_type": "code",
   "execution_count": 6,
   "id": "a46cb3e7-58c8-439e-919f-52dcfdd27a4f",
   "metadata": {},
   "outputs": [
    {
     "name": "stdout",
     "output_type": "stream",
     "text": [
      "[1, 2, 4, 5]\n"
     ]
    }
   ],
   "source": [
    "my_list = [1, 2, 3, 4, 5]\n",
    "\n",
    "# Remove the element at index 2\n",
    "my_list.pop(2)\n",
    "\n",
    "# The list will now be [1, 2, 4, 5]\n",
    "print(my_list)\n"
   ]
  },
  {
   "cell_type": "markdown",
   "id": "5540d9c6-d69c-4187-81dd-64593ddacf33",
   "metadata": {},
   "source": [
    "# Q7. Check if an element exists in a list."
   ]
  },
  {
   "cell_type": "code",
   "execution_count": 7,
   "id": "cf26390a-48fe-4d50-8451-d36327f714ea",
   "metadata": {},
   "outputs": [
    {
     "name": "stdout",
     "output_type": "stream",
     "text": [
      "The element 3 exists in the list.\n"
     ]
    }
   ],
   "source": [
    "my_list = [1, 2, 3, 4, 5]\n",
    "\n",
    "# Check if the element 3 exists in the list\n",
    "if 3 in my_list:\n",
    "    print(\"The element 3 exists in the list.\")\n",
    "else:\n",
    "    print(\"The element 3 does not exist in the list.\")\n"
   ]
  },
  {
   "cell_type": "markdown",
   "id": "64319188-b2da-4f0f-88bf-36c633fb8a68",
   "metadata": {},
   "source": [
    "# Q8. Find the index of the first occurrence of an element in a list."
   ]
  },
  {
   "cell_type": "code",
   "execution_count": 10,
   "id": "9e9fa42a-5f30-4c91-bc36-15dc89afbca3",
   "metadata": {},
   "outputs": [
    {
     "name": "stdout",
     "output_type": "stream",
     "text": [
      "The index of the first occurrence of is: 4\n"
     ]
    }
   ],
   "source": [
    "my_list = [1, 2, 3, 4, 5, 3, 6]\n",
    "\n",
    "# Find the index of the first occurrence of the element 3\n",
    "index = my_list.index(5)\n",
    "\n",
    "# Print the index\n",
    "print(\"The index of the first occurrence of is:\", index)\n"
   ]
  },
  {
   "cell_type": "markdown",
   "id": "86127443-93df-4554-bdcc-951ad6815daa",
   "metadata": {},
   "source": [
    "# Q9. Count the occurrences of an element in a list."
   ]
  },
  {
   "cell_type": "code",
   "execution_count": 11,
   "id": "7e12b008-3ac8-43c3-87b2-c5c7f147d176",
   "metadata": {},
   "outputs": [
    {
     "name": "stdout",
     "output_type": "stream",
     "text": [
      "The element 3 appears 2 times in the list.\n"
     ]
    }
   ],
   "source": [
    "my_list = [1, 2, 3, 4, 5, 3, 6]\n",
    "\n",
    "# Count the occurrences of the element 3\n",
    "count = my_list.count(3)\n",
    "\n",
    "# Print the count\n",
    "print(\"The element 3 appears\", count, \"times in the list.\")\n"
   ]
  },
  {
   "cell_type": "markdown",
   "id": "c68baa7c-9b96-4e36-a7cb-72b38f8b9fef",
   "metadata": {},
   "source": [
    "# Q10. Reverse the order of elements in a list."
   ]
  },
  {
   "cell_type": "code",
   "execution_count": 12,
   "id": "185613cd-c025-4392-a8d9-14c6118156e2",
   "metadata": {},
   "outputs": [
    {
     "name": "stdout",
     "output_type": "stream",
     "text": [
      "[5, 4, 3, 2, 1]\n"
     ]
    }
   ],
   "source": [
    "my_list = [1, 2, 3, 4, 5]\n",
    "\n",
    "# Reverse the order of elements in the list\n",
    "my_list.reverse()\n",
    "\n",
    "# The list will now be [5, 4, 3, 2, 1]\n",
    "print(my_list)\n"
   ]
  },
  {
   "cell_type": "markdown",
   "id": "1b02e294-0fff-4e51-9b6f-14b3c24751ac",
   "metadata": {},
   "source": [
    "# Q11. Sort a list in ascending order."
   ]
  },
  {
   "cell_type": "code",
   "execution_count": 6,
   "id": "6883d8ec-da41-4bcf-8878-6fa38016c4e5",
   "metadata": {},
   "outputs": [
    {
     "name": "stdout",
     "output_type": "stream",
     "text": [
      "[1, 1, 2, 3, 3, 4, 5, 5, 5, 6, 9]\n"
     ]
    }
   ],
   "source": [
    "my_list = [3, 1, 4, 1, 5, 9, 2, 6, 5, 3, 5]\n",
    "\n",
    "# Sort the list in ascending order\n",
    "my_list.sort()\n",
    "\n",
    "# The list will now be sorted in ascending order\n",
    "print(my_list)\n"
   ]
  },
  {
   "cell_type": "markdown",
   "id": "dba08fe6-9919-4059-bd3e-3be58c296089",
   "metadata": {},
   "source": [
    "# Q12. Sort a list in descending order."
   ]
  },
  {
   "cell_type": "code",
   "execution_count": 7,
   "id": "e921b749-dce6-4118-991b-028ed7aedc9c",
   "metadata": {},
   "outputs": [
    {
     "name": "stdout",
     "output_type": "stream",
     "text": [
      "[9, 6, 5, 5, 5, 4, 3, 3, 2, 1, 1]\n"
     ]
    }
   ],
   "source": [
    "my_list = [3, 1, 4, 1, 5, 9, 2, 6, 5, 3, 5]\n",
    "\n",
    "# Sort the list in descending order\n",
    "my_list.sort(reverse=True)\n",
    "\n",
    "# The list will now be sorted in descending order\n",
    "print(my_list)\n"
   ]
  },
  {
   "cell_type": "markdown",
   "id": "15aeaa01-bbc3-4658-86b5-251c0b69d702",
   "metadata": {},
   "source": [
    " # Q13. Create a list of even numbers from 1 to 20."
   ]
  },
  {
   "cell_type": "code",
   "execution_count": 12,
   "id": "a0f53976-89e9-4bb4-9094-d8b53bef9082",
   "metadata": {},
   "outputs": [
    {
     "name": "stdout",
     "output_type": "stream",
     "text": [
      "10 8 50 80 12 4 66 "
     ]
    }
   ],
   "source": [
    "list1 = [10, 21, 8 ,50, 80, 12, 4, 45, 66, 93]\n",
    " \n",
    "# iterating each number in list\n",
    "for num in list1:\n",
    " \n",
    "    # checking condition\n",
    "    if num % 2 == 0:\n",
    "        print(num, end=\" \")"
   ]
  },
  {
   "cell_type": "markdown",
   "id": "11ae5a89-ef58-42fe-810a-888740debf94",
   "metadata": {},
   "source": [
    "# Q13. Create a list of even numbers from 1 to 20."
   ]
  },
  {
   "cell_type": "code",
   "execution_count": 8,
   "id": "a974687b-4c19-4e96-895e-861c518ab02e",
   "metadata": {},
   "outputs": [
    {
     "name": "stdout",
     "output_type": "stream",
     "text": [
      "[2, 4, 6, 8, 10, 12, 14, 16, 18, 20]\n"
     ]
    }
   ],
   "source": [
    "myList =  [1,2,3,4,5,6,7,8,9,10,11,12,13,14,15,16,17,18,19,20]\n",
    "evensList = [x for x in myList if x % 2 == 0]\n",
    "print(evensList)"
   ]
  },
  {
   "cell_type": "markdown",
   "id": "8eccb412-9ee3-461c-ab41-0f5d9d46b8ea",
   "metadata": {},
   "source": [
    "# Q14. Create a list of odd numbers from 1 to 20."
   ]
  },
  {
   "cell_type": "code",
   "execution_count": 9,
   "id": "5d89dc0f-233d-4ac1-9c09-1dff710b61c9",
   "metadata": {},
   "outputs": [
    {
     "name": "stdout",
     "output_type": "stream",
     "text": [
      "[1, 3, 5, 7, 9, 11, 13, 15, 17, 19]\n"
     ]
    }
   ],
   "source": [
    "myList = [1,2,3,4,5,6,7,8,9,10,11,12,13,14,15,16,17,18,19,20]\n",
    "oodList = [x for x in myList if x % 2 != 0]\n",
    "print(oodList)\n"
   ]
  },
  {
   "cell_type": "markdown",
   "id": "bf58d315-1d3a-4a2b-9535-3e8aaac1d96b",
   "metadata": {},
   "source": [
    "# Q15. Find the sum of all elements in a list."
   ]
  },
  {
   "cell_type": "code",
   "execution_count": 10,
   "id": "343a9b37-6506-45a2-b46b-4a02a26ee4cf",
   "metadata": {},
   "outputs": [
    {
     "name": "stdout",
     "output_type": "stream",
     "text": [
      "210\n"
     ]
    }
   ],
   "source": [
    "numbers = [1,2,3,4,5,6,7,8,9,10,11,12,13,14,15,16,17,18,19,20]\n",
    "print(sum(numbers))"
   ]
  },
  {
   "cell_type": "markdown",
   "id": "4d75b228-4f03-42aa-82c6-4cfa52fec20d",
   "metadata": {},
   "source": [
    "# Q16. Find the maximum value in a list."
   ]
  },
  {
   "cell_type": "code",
   "execution_count": 11,
   "id": "5cfc15f3-aa68-4674-9904-71dbb7d1dcfe",
   "metadata": {},
   "outputs": [
    {
     "name": "stdout",
     "output_type": "stream",
     "text": [
      "20\n"
     ]
    }
   ],
   "source": [
    "numbers = [1,2,3,4,5,6,7,8,9,10,11,12,13,14,15,16,17,18,19,20]\n",
    "print(max(numbers))"
   ]
  },
  {
   "cell_type": "markdown",
   "id": "dec2ec61-6d03-4fd4-b082-f444cee82af8",
   "metadata": {},
   "source": [
    "# Q17. Find the minimum value in a list."
   ]
  },
  {
   "cell_type": "code",
   "execution_count": 12,
   "id": "77febe1c-cc59-4c1e-98b3-71fc9657f71c",
   "metadata": {},
   "outputs": [
    {
     "name": "stdout",
     "output_type": "stream",
     "text": [
      "1\n"
     ]
    }
   ],
   "source": [
    "numbers = [1,2,3,4,5,6,7,8,9,10,11,12,13,14,15,16,17,18,19,20]\n",
    "print(min(numbers))"
   ]
  },
  {
   "cell_type": "markdown",
   "id": "877b45e3-bc8c-4956-a334-f207561af31c",
   "metadata": {},
   "source": [
    "# Q18. Create a list of squares of numbers from 1 to 10."
   ]
  },
  {
   "cell_type": "code",
   "execution_count": 14,
   "id": "0803c975-a846-4175-81f0-8372db7fc718",
   "metadata": {},
   "outputs": [
    {
     "name": "stdout",
     "output_type": "stream",
     "text": [
      "List with square of integers from 1 to 50:\n",
      "[1, 4, 9, 16, 25, 36, 49, 64, 81]\n"
     ]
    }
   ],
   "source": [
    "l = []\n",
    "\n",
    "for i in range(1,10):\n",
    "    l.append(i * i)\n",
    "\n",
    "print(\"List with square of integers from 1 to 50:\")\n",
    "print(l)"
   ]
  },
  {
   "cell_type": "markdown",
   "id": "e26e1936-a9b5-480b-961b-975bdd82a4b6",
   "metadata": {},
   "source": [
    "# Q19. Create a list of random numbers."
   ]
  },
  {
   "cell_type": "code",
   "execution_count": 17,
   "id": "48759bdd-8e8d-435b-9a20-046a81c4a472",
   "metadata": {},
   "outputs": [
    {
     "name": "stdout",
     "output_type": "stream",
     "text": [
      "[6, 4, 7, 3, 3, 7, 3, 8, 4, 9]\n"
     ]
    }
   ],
   "source": [
    "import random\n",
    "\n",
    "rand_list=[]\n",
    "n=10\n",
    "for i in range(n):\n",
    "\trand_list.append(random.randint(3,9))\n",
    "print(rand_list)\n"
   ]
  },
  {
   "cell_type": "markdown",
   "id": "53e838b1-bff6-4360-ada5-5dc2f2e2707f",
   "metadata": {},
   "source": [
    "# Q20. Remove duplicates from a list."
   ]
  },
  {
   "cell_type": "code",
   "execution_count": 20,
   "id": "87ce0e03-9738-4f07-9038-b931b7f47eab",
   "metadata": {},
   "outputs": [
    {
     "name": "stdout",
     "output_type": "stream",
     "text": [
      "{1, 2, 3, 4, 5, 6, 7, 8, 9, 10, 11, 12, 13, 14, 15, 16, 17, 18, 19, 20}\n"
     ]
    }
   ],
   "source": [
    "numbers = [1,2,2,3,4,5,6,3,4,5,6,7,8,9,10,11,12,13,4,13,14,15,16,17,18,19,20]\n",
    "print(set(numbers))"
   ]
  },
  {
   "cell_type": "markdown",
   "id": "a1f48abd-6da2-44bd-8406-122855728431",
   "metadata": {},
   "source": [
    "# Q21. Find the common elements between two lists."
   ]
  },
  {
   "cell_type": "code",
   "execution_count": 26,
   "id": "a9002b1d-07bd-45ff-87f9-83389f462b66",
   "metadata": {},
   "outputs": [
    {
     "data": {
      "text/plain": [
       "[11, 3, 5]"
      ]
     },
     "execution_count": 26,
     "metadata": {},
     "output_type": "execute_result"
    }
   ],
   "source": [
    "list1 = [1,2,3,4,5,6,11]\n",
    "list2 = [3, 5, 7, 9,11]\n",
    "list(set(list1).intersection(list2))"
   ]
  },
  {
   "cell_type": "markdown",
   "id": "ea131646-067e-4b33-ae46-354fe522e64d",
   "metadata": {},
   "source": [
    "# Q22. Find the difference between two lists."
   ]
  },
  {
   "cell_type": "code",
   "execution_count": 28,
   "id": "086fa1c3-37e8-43b3-8357-dad856f9829a",
   "metadata": {},
   "outputs": [
    {
     "data": {
      "text/plain": [
       "[1, 2, 4, 6, 7, 9]"
      ]
     },
     "execution_count": 28,
     "metadata": {},
     "output_type": "execute_result"
    }
   ],
   "source": [
    "list1 = [1,2,3,4,5,6,11]\n",
    "list2 = [3, 5, 7, 9,11]\n",
    "list(set(list1).symmetric_difference(list2))"
   ]
  },
  {
   "cell_type": "markdown",
   "id": "dc04f7cc-9284-45f7-8798-b93d7a1d2bc8",
   "metadata": {},
   "source": [
    "# Q23. Merge two lists."
   ]
  },
  {
   "cell_type": "code",
   "execution_count": 30,
   "id": "eebabdca-ec7b-4e7a-8af8-22633b6d3ab0",
   "metadata": {},
   "outputs": [
    {
     "name": "stdout",
     "output_type": "stream",
     "text": [
      "Concatenated list using + : [1, 4, 5, 6, 5, 3, 5, 7, 2, 5]\n"
     ]
    }
   ],
   "source": [
    "# Initializing lists\n",
    "test_list3 = [1, 4, 5, 6, 5]\n",
    "test_list4 = [3, 5, 7, 2, 5]\n",
    "\n",
    "# using + operator to concat\n",
    "test_list3 = test_list3 + test_list4\n",
    "\n",
    "# Printing concatenated list\n",
    "print (\"Concatenated list using + : \"\n",
    "\t\t\t\t+ str(test_list3))\n"
   ]
  },
  {
   "cell_type": "markdown",
   "id": "17c418ef-b744-42da-be66-e991c56632f6",
   "metadata": {},
   "source": [
    "# Q24. Multiply all elements in a list by 2."
   ]
  },
  {
   "cell_type": "code",
   "execution_count": 32,
   "id": "c3f55a41-460c-4f32-832b-9b172a0ba9ee",
   "metadata": {},
   "outputs": [
    {
     "name": "stdout",
     "output_type": "stream",
     "text": [
      "6\n",
      "24\n"
     ]
    }
   ],
   "source": [
    "\n",
    "def multiplyList(myList):\n",
    "\n",
    "\t# Multiply elements one by one\n",
    "\tresult = 1\n",
    "\tfor x in myList:\n",
    "\t\tresult = result * x\n",
    "\treturn result\n",
    "\n",
    "\n",
    "# Driver code\n",
    "list1 = [1, 2, 3]\n",
    "list2 = [3, 2, 4]\n",
    "print(multiplyList(list1))\n",
    "print(multiplyList(list2))\n"
   ]
  },
  {
   "cell_type": "markdown",
   "id": "3dfe8714-3868-40b1-a10e-d74d96882033",
   "metadata": {},
   "source": [
    "# Q25. Filter out all even numbers from a list."
   ]
  },
  {
   "cell_type": "code",
   "execution_count": 1,
   "id": "36534a68-92b9-4291-a400-736728b76996",
   "metadata": {},
   "outputs": [
    {
     "name": "stdout",
     "output_type": "stream",
     "text": [
      "[1, 3, 5, 7, 9]\n"
     ]
    }
   ],
   "source": [
    "original_list = [1, 2, 3, 4, 5, 6, 7, 8, 9, 10]\n",
    "\n",
    "# Use a list comprehension to filter out even numbers\n",
    "filtered_list = [x for x in original_list if x % 2 != 0]\n",
    "\n",
    "print(filtered_list)\n"
   ]
  },
  {
   "cell_type": "markdown",
   "id": "c5980577-c88b-46f8-bb6b-af2e3a01a880",
   "metadata": {},
   "source": [
    "# Q26. Convert a list of strings to a list of integers."
   ]
  },
  {
   "cell_type": "code",
   "execution_count": 4,
   "id": "9f986437-aa4c-4cdb-ab98-573ec31d54ee",
   "metadata": {},
   "outputs": [
    {
     "name": "stdout",
     "output_type": "stream",
     "text": [
      "[1, 2, 3, 4, 5]\n"
     ]
    }
   ],
   "source": [
    "string_list = [\"1\", \"2\", \"3\", \"4\", \"5\"]\n",
    "\n",
    "integer_list = [int(x) for x in string_list]\n",
    "\n",
    "print(integer_list)\n",
    "\n"
   ]
  },
  {
   "cell_type": "markdown",
   "id": "4165a3f8-43c4-4376-857f-05e633d3ad46",
   "metadata": {},
   "source": [
    "# Q27. Convert a list of integers to a list of strings."
   ]
  },
  {
   "cell_type": "code",
   "execution_count": 5,
   "id": "6861974d-c331-4b55-a0fa-e8b51b597de1",
   "metadata": {},
   "outputs": [
    {
     "name": "stdout",
     "output_type": "stream",
     "text": [
      "['1', '2', '3', '4', '5']\n"
     ]
    }
   ],
   "source": [
    "integer_list = [1, 2, 3, 4, 5]\n",
    "string_list = [str(x) for x in integer_list]\n",
    "\n",
    "print(string_list)\n"
   ]
  },
  {
   "cell_type": "markdown",
   "id": "9acf69e4-b184-4048-bd2e-1c0b6728570a",
   "metadata": {},
   "source": [
    "# Q35. Find the second largest number in a list."
   ]
  },
  {
   "cell_type": "code",
   "execution_count": 1,
   "id": "a84b6f55-5a2a-4d54-830b-da6b94e50d7b",
   "metadata": {},
   "outputs": [
    {
     "name": "stdout",
     "output_type": "stream",
     "text": [
      "8\n"
     ]
    }
   ],
   "source": [
    "def second_largest(input_list):\n",
    "    sorted_list = sorted(set(input_list), reverse=True)\n",
    "    \n",
    "    if len(sorted_list) > 1:\n",
    "        return sorted_list[1]\n",
    "    else:\n",
    "        return None  # There is no second-largest element\n",
    "\n",
    "# Example usage:\n",
    "numbers = [5, 2, 8, 7, 3, 9, 1]\n",
    "\n",
    "result = second_largest(numbers)\n",
    "print(result)\n"
   ]
  },
  {
   "cell_type": "markdown",
   "id": "a3af2be8-caa5-487a-903e-340b8ba87b5d",
   "metadata": {},
   "source": [
    "# Q36. Replace every element in a list with its square."
   ]
  },
  {
   "cell_type": "code",
   "execution_count": 5,
   "id": "9a74c856-7bf8-4ffe-b061-dd7e0ec3ac75",
   "metadata": {},
   "outputs": [
    {
     "name": "stdout",
     "output_type": "stream",
     "text": [
      "[1, 4, 9, 16, 25]\n"
     ]
    }
   ],
   "source": [
    "original_list = [1, 2, 3, 4, 5]\n",
    "\n",
    "squared_list = [i**2 for i in original_list]\n",
    "\n",
    "print(squared_list)\n"
   ]
  },
  {
   "cell_type": "markdown",
   "id": "cf4edc97-cbcc-4060-92b3-5e52eddb2df5",
   "metadata": {},
   "source": [
    "# Q37. Convert a list to a dictionary where list elements become keys and their indices become values."
   ]
  },
  {
   "cell_type": "code",
   "execution_count": 6,
   "id": "33e17a88-74c3-4917-a525-89e438ecce39",
   "metadata": {},
   "outputs": [
    {
     "name": "stdout",
     "output_type": "stream",
     "text": [
      "{'apple': 0, 'banana': 1, 'orange': 2, 'grape': 3}\n"
     ]
    }
   ],
   "source": [
    "original_list = ['apple', 'banana', 'orange', 'grape']\n",
    "\n",
    "# Using dictionary comprehension to create a dictionary\n",
    "index_dict = {value: index for index, value in enumerate(original_list)}\n",
    "\n",
    "print(index_dict)\n"
   ]
  },
  {
   "cell_type": "markdown",
   "id": "a1511780-7f7e-42b5-b4d3-1a1fe5dd6aae",
   "metadata": {},
   "source": [
    "# Q38. Shuffle the elements of a list randomly."
   ]
  },
  {
   "cell_type": "code",
   "execution_count": 11,
   "id": "7f47f80f-8b92-4d90-828b-96ac3bab91b3",
   "metadata": {},
   "outputs": [
    {
     "name": "stdout",
     "output_type": "stream",
     "text": [
      "[3, 1, 5, 2, 4]\n"
     ]
    }
   ],
   "source": [
    "import random\n",
    "\n",
    "original_list = [1, 2, 3, 4, 5]\n",
    "\n",
    "# Shuffle the list in-place\n",
    "random.shuffle(original_list)\n",
    "\n",
    "print(original_list)\n"
   ]
  },
  {
   "cell_type": "markdown",
   "id": "3256a95c-54a4-4df8-b677-99bd60a7e5c2",
   "metadata": {},
   "source": [
    "# Q39. Create a list of the first 10 factorial numbers."
   ]
  },
  {
   "cell_type": "code",
   "execution_count": 12,
   "id": "bc73a8d5-85f9-43b8-8f12-03c945927ad0",
   "metadata": {},
   "outputs": [
    {
     "name": "stdout",
     "output_type": "stream",
     "text": [
      "[1, 2, 6, 24, 120, 720, 5040, 40320, 362880, 3628800]\n"
     ]
    }
   ],
   "source": [
    "def factorial(n):\n",
    "    result = 1\n",
    "    for i in range(1, n + 1):\n",
    "        result *= i\n",
    "    return result\n",
    "\n",
    "# Generate a list of the first 10 factorial numbers\n",
    "factorial_numbers = [factorial(i) for i in range(1, 11)]\n",
    "\n",
    "print(factorial_numbers)\n"
   ]
  },
  {
   "cell_type": "markdown",
   "id": "270b2520-f69e-4db7-97d6-e26f898b626c",
   "metadata": {},
   "source": [
    "# Q40. Check if two lists have at least one element in common."
   ]
  },
  {
   "cell_type": "code",
   "execution_count": 14,
   "id": "092eaaa5-f912-4488-88eb-52aaf48f1106",
   "metadata": {},
   "outputs": [
    {
     "name": "stdout",
     "output_type": "stream",
     "text": [
      "False\n"
     ]
    }
   ],
   "source": [
    "def have_common_element(list1, list2):\n",
    "    # Convert lists to sets and check if there is an intersection\n",
    "    return bool(set(list1) & set(list2))\n",
    "\n",
    "# Example usage:\n",
    "list1 = [1, 2, 3, 4, 5]\n",
    "list2 = [ 6, 7, 8, 9]\n",
    "\n",
    "result = have_common_element(list1, list2)\n",
    "print(result)\n"
   ]
  },
  {
   "cell_type": "markdown",
   "id": "29b7af5a-2ddb-4578-8332-abb42c3ce99c",
   "metadata": {},
   "source": [
    "# Q41. Remove all elements from a list."
   ]
  },
  {
   "cell_type": "code",
   "execution_count": 15,
   "id": "06811646-031a-4f80-95c0-86f5de4bc5a3",
   "metadata": {},
   "outputs": [
    {
     "name": "stdout",
     "output_type": "stream",
     "text": [
      "[]\n"
     ]
    }
   ],
   "source": [
    "original_list = [1, 2, 3, 4, 5]\n",
    "original_list.clear()\n",
    "\n",
    "print(original_list)\n"
   ]
  },
  {
   "cell_type": "markdown",
   "id": "8d760df7-681d-4c6d-b979-3f5930c1eaea",
   "metadata": {},
   "source": [
    "# Q42. Replace negative numbers in a list with 0."
   ]
  },
  {
   "cell_type": "code",
   "execution_count": 18,
   "id": "1dde20e2-78eb-4f82-bf71-db4ae138404e",
   "metadata": {},
   "outputs": [
    {
     "name": "stdout",
     "output_type": "stream",
     "text": [
      "[1, 0, 3, 0, 5, 0]\n"
     ]
    }
   ],
   "source": [
    "original_list = [1, -2, 3, -4, 5, -6]\n",
    "\n",
    "# Replace negative numbers with 0 using list comprehension\n",
    "modified_list = [max(0, x) for x in original_list]\n",
    "\n",
    "print(modified_list)\n"
   ]
  },
  {
   "cell_type": "markdown",
   "id": "fc2963c3-7673-4418-bd6c-e25e7b6fc522",
   "metadata": {},
   "source": [
    "# Q43. Convert a string into a list of words."
   ]
  },
  {
   "cell_type": "code",
   "execution_count": 22,
   "id": "0362c91d-84f5-4090-bf26-39945ca0a48b",
   "metadata": {},
   "outputs": [
    {
     "name": "stdout",
     "output_type": "stream",
     "text": [
      "['Hello,', 'this', 'is', 'a', 'sample', 'daheem', 'sentence.']\n"
     ]
    }
   ],
   "source": [
    "sentence = \"Hello, this is a sample daheem sentence.\"\n",
    "\n",
    "# Split the string into a list of words\n",
    "word_list = sentence.split()\n",
    "\n",
    "print(word_list)\n",
    "\n"
   ]
  },
  {
   "cell_type": "markdown",
   "id": "f12a54a9-710c-4327-9e5a-c5b022054827",
   "metadata": {},
   "source": [
    "# Q44. Convert a list of words into a string."
   ]
  },
  {
   "cell_type": "code",
   "execution_count": 21,
   "id": "7240a4c2-5e2e-483c-97a1-52c953106b50",
   "metadata": {},
   "outputs": [
    {
     "name": "stdout",
     "output_type": "stream",
     "text": [
      "Hello this is a pw sample list\n"
     ]
    }
   ],
   "source": [
    "word_list = [\"Hello\", \"this\", \"is\", \"a\", \"pw\", \"sample\", \"list\"]\n",
    "\n",
    "# Join the list of words into a string\n",
    "sentence = ' '.join(word_list)\n",
    "\n",
    "print(sentence)\n"
   ]
  },
  {
   "cell_type": "markdown",
   "id": "7c7e2c24-7626-4374-a47e-d325c22b481a",
   "metadata": {},
   "source": [
    "# Q45. Create a list of the first `n` powers of 2."
   ]
  },
  {
   "cell_type": "code",
   "execution_count": 24,
   "id": "7a41de9f-92a2-465d-b9bb-015e1f899ca7",
   "metadata": {},
   "outputs": [
    {
     "name": "stdout",
     "output_type": "stream",
     "text": [
      "[1, 2, 4, 8, 16, 32, 64, 128]\n"
     ]
    }
   ],
   "source": [
    "n = 8 \n",
    "\n",
    "powers_of_2 = [2 ** i for i in range(n)]\n",
    "\n",
    "print(powers_of_2)\n"
   ]
  },
  {
   "cell_type": "markdown",
   "id": "b91afefa-cab4-436b-9fa3-218da21bd2b9",
   "metadata": {},
   "source": [
    "# Q46. Find the longest string in a list of strings."
   ]
  },
  {
   "cell_type": "code",
   "execution_count": 26,
   "id": "4b456c6f-370b-43cb-9cda-f7555eb5984d",
   "metadata": {},
   "outputs": [
    {
     "name": "stdout",
     "output_type": "stream",
     "text": [
      "alak panday\n"
     ]
    }
   ],
   "source": [
    "string_list = [\"pw\", \"sudh\", \"krish\", \"alak panday\", \"imran\"]\n",
    "\n",
    "# Find the longest string in the list\n",
    "longest_string = max(string_list, key=len)\n",
    "\n",
    "print(longest_string)\n"
   ]
  },
  {
   "cell_type": "markdown",
   "id": "8100bdb0-8694-4fc3-ac46-6a70dd46cc1d",
   "metadata": {},
   "source": [
    "# Q47. Find the shortest string in a list of strings."
   ]
  },
  {
   "cell_type": "code",
   "execution_count": 28,
   "id": "3aaaed18-91af-4047-95b8-e558d5bdb452",
   "metadata": {},
   "outputs": [
    {
     "name": "stdout",
     "output_type": "stream",
     "text": [
      "pw\n"
     ]
    }
   ],
   "source": [
    "string_list = [\"pw\", \"sudh\", \"krish\", \"alak panday\", \"imran\"]\n",
    "\n",
    "# Find the shortest string in the list\n",
    "shortest_string = min(string_list, key=len)\n",
    "\n",
    "print(shortest_string)"
   ]
  },
  {
   "cell_type": "markdown",
   "id": "92f90af9-3ae7-4821-a2d9-8aa1bc1523a3",
   "metadata": {},
   "source": [
    "# Q49. Check if a list contains another list as a subsequence."
   ]
  },
  {
   "cell_type": "code",
   "execution_count": null,
   "id": "30003d26-17ce-4f96-afba-7f4e5d66087a",
   "metadata": {},
   "outputs": [],
   "source": []
  },
  {
   "cell_type": "markdown",
   "id": "9e60404d-5220-45b7-bfc5-d71175db8151",
   "metadata": {},
   "source": [
    "# Q50. Swap two elements in a list by their indices."
   ]
  },
  {
   "cell_type": "code",
   "execution_count": 1,
   "id": "6169d1a2-d386-436e-815b-7e1b38f53e0d",
   "metadata": {},
   "outputs": [
    {
     "name": "stdout",
     "output_type": "stream",
     "text": [
      "Original List: [1, 2, 3, 4, 5]\n",
      "List after swapping: [1, 4, 3, 2, 5]\n"
     ]
    }
   ],
   "source": [
    "def swap_elements(lst, index1, index2):\n",
    "    # Swap elements using tuple unpacking\n",
    "    lst[index1], lst[index2] = lst[index2], lst[index1]\n",
    "\n",
    "# Example usage\n",
    "my_list = [1, 2, 3, 4, 5]\n",
    "print(\"Original List:\", my_list)\n",
    "\n",
    "# Swap elements at index 1 and 3\n",
    "swap_elements(my_list, 1, 3)\n",
    "\n",
    "print(\"List after swapping:\", my_list)\n"
   ]
  },
  {
   "cell_type": "markdown",
   "id": "db6ef8a6-7813-4647-918a-dd5435e5d589",
   "metadata": {},
   "source": [
    "# Tuple Based Practice Problem :"
   ]
  },
  {
   "cell_type": "markdown",
   "id": "f92e9759-5b53-4a1c-b939-6e0bb62ff609",
   "metadata": {},
   "source": [
    "# Q1. Create a tuple with integers from 1 to 5."
   ]
  },
  {
   "cell_type": "code",
   "execution_count": 2,
   "id": "6d9d0c0b-1abb-4e60-80e5-17dd9d24299d",
   "metadata": {},
   "outputs": [
    {
     "name": "stdout",
     "output_type": "stream",
     "text": [
      "(1, 2, 3, 4, 5)\n"
     ]
    }
   ],
   "source": [
    "my_tuple = (1, 2, 3, 4, 5)\n",
    "print(my_tuple)\n"
   ]
  },
  {
   "cell_type": "markdown",
   "id": "dc393a79-546d-489e-b0e5-690c4991f6b3",
   "metadata": {},
   "source": [
    "# Q2. Access the third element of a tuple.\n"
   ]
  },
  {
   "cell_type": "code",
   "execution_count": 3,
   "id": "408a1126-b85b-4943-aedf-4620414e463b",
   "metadata": {},
   "outputs": [
    {
     "name": "stdout",
     "output_type": "stream",
     "text": [
      "Third element: 3\n"
     ]
    }
   ],
   "source": [
    "my_tuple = (1, 2, 3, 4, 5)\n",
    "third_element = my_tuple[2]\n",
    "\n",
    "print(\"Third element:\", third_element)\n"
   ]
  },
  {
   "cell_type": "markdown",
   "id": "0e342764-15c4-4c48-8837-1a9a9bbe1a73",
   "metadata": {},
   "source": [
    "# Q3. Find the length of a tuple without using the `len()` function."
   ]
  },
  {
   "cell_type": "code",
   "execution_count": 5,
   "id": "d7c43144-120d-4471-ac72-4cfa4fd1fe23",
   "metadata": {},
   "outputs": [
    {
     "name": "stdout",
     "output_type": "stream",
     "text": [
      "Length of the tuple: 5\n"
     ]
    }
   ],
   "source": [
    "my_tuple = (1, 2, 3, 4, 5)\n",
    "\n",
    "length_of_tuple = 0\n",
    "for i in my_tuple:\n",
    "    length_of_tuple += 1\n",
    "\n",
    "print(\"Length of the tuple:\", length_of_tuple)\n"
   ]
  },
  {
   "cell_type": "markdown",
   "id": "2e459351-f737-4185-a815-1148d4554fc4",
   "metadata": {},
   "source": [
    "# Q4. Count the occurrences of an element in a tuple."
   ]
  },
  {
   "cell_type": "code",
   "execution_count": 6,
   "id": "35019ba4-a6cd-4ddf-b48b-f215e4f84536",
   "metadata": {},
   "outputs": [
    {
     "name": "stdout",
     "output_type": "stream",
     "text": [
      "The element 2 appears 3 times in the tuple.\n"
     ]
    }
   ],
   "source": [
    "my_tuple = (1, 2, 3, 4, 2, 5, 2)\n",
    "\n",
    "element_to_count = 2\n",
    "occurrences = my_tuple.count(element_to_count)\n",
    "\n",
    "print(f\"The element {element_to_count} appears {occurrences} times in the tuple.\")\n"
   ]
  },
  {
   "cell_type": "markdown",
   "id": "21032618-01eb-4150-8931-966e115c6ae3",
   "metadata": {},
   "source": [
    "# Q5. Find the index of the first occurrence of an element in a tuple."
   ]
  },
  {
   "cell_type": "code",
   "execution_count": 7,
   "id": "16cf5f2d-feed-4e3a-9851-9f7de6eb332e",
   "metadata": {},
   "outputs": [
    {
     "name": "stdout",
     "output_type": "stream",
     "text": [
      "The index of the first occurrence of 2 is: 1\n"
     ]
    }
   ],
   "source": [
    "my_tuple = (1, 2, 3, 4, 2, 5, 2)\n",
    "\n",
    "element_to_find = 2\n",
    "index_of_element = my_tuple.index(element_to_find)\n",
    "\n",
    "print(f\"The index of the first occurrence of {element_to_find} is: {index_of_element}\")\n"
   ]
  },
  {
   "cell_type": "markdown",
   "id": "879ac3d8-c42b-4490-b507-6e9a74d73794",
   "metadata": {},
   "source": [
    "# Q6. Check if an element exists in a tuple."
   ]
  },
  {
   "cell_type": "code",
   "execution_count": 10,
   "id": "023a7f4c-962a-44eb-87e2-6929598aca29",
   "metadata": {},
   "outputs": [
    {
     "name": "stdout",
     "output_type": "stream",
     "text": [
      "The element 3 exists in the tuple.\n"
     ]
    }
   ],
   "source": [
    "my_tuple = (1, 2, 3, 4, 5)\n",
    "\n",
    "element_to_check = 3\n",
    "if element_to_check in my_tuple:\n",
    "    print(f\"The element {element_to_check} exists in the tuple.\")\n",
    "else:\n",
    "    print(f\"The element {element_to_check} does not exist in the tuple.\")\n"
   ]
  },
  {
   "cell_type": "markdown",
   "id": "d9837327-64c7-401b-bec0-6ec2a9509aa3",
   "metadata": {},
   "source": [
    "# Q7. Convert a tuple to a list."
   ]
  },
  {
   "cell_type": "code",
   "execution_count": 11,
   "id": "3005831e-ab93-419b-89ce-5f8b8c79221f",
   "metadata": {},
   "outputs": [
    {
     "name": "stdout",
     "output_type": "stream",
     "text": [
      "Original tuple: (1, 2, 3, 4, 5)\n",
      "Converted list: [1, 2, 3, 4, 5]\n"
     ]
    }
   ],
   "source": [
    "my_tuple = (1, 2, 3, 4, 5)\n",
    "\n",
    "# Convert the tuple to a list\n",
    "my_list = list(my_tuple)\n",
    "\n",
    "print(\"Original tuple:\", my_tuple)\n",
    "print(\"Converted list:\", my_list)\n"
   ]
  },
  {
   "cell_type": "markdown",
   "id": "8e629d0c-66ea-4f98-96b2-e364406080fe",
   "metadata": {},
   "source": [
    "# Q8. Convert a list to a tuple."
   ]
  },
  {
   "cell_type": "code",
   "execution_count": 12,
   "id": "e9eb2d46-ae9d-417a-8b87-7fd1e17d6a11",
   "metadata": {},
   "outputs": [
    {
     "name": "stdout",
     "output_type": "stream",
     "text": [
      "Original list: [1, 2, 3, 4, 5]\n",
      "Converted tuple: (1, 2, 3, 4, 5)\n"
     ]
    }
   ],
   "source": [
    "my_list = [1, 2, 3, 4, 5]\n",
    "\n",
    "# Convert the list to a tuple\n",
    "my_tuple = tuple(my_list)\n",
    "\n",
    "print(\"Original list:\", my_list)\n",
    "print(\"Converted tuple:\", my_tuple)\n"
   ]
  },
  {
   "cell_type": "markdown",
   "id": "739b615a-64e9-44f6-afb7-a8f0c06da123",
   "metadata": {},
   "source": [
    "# Q9. Unpack the elements of a tuple into variables."
   ]
  },
  {
   "cell_type": "code",
   "execution_count": null,
   "id": "61a91aec-6835-4236-b85a-934f8519845b",
   "metadata": {},
   "outputs": [],
   "source": []
  },
  {
   "cell_type": "markdown",
   "id": "0ef5b408-faa4-49f6-8d26-a3782cbefe0a",
   "metadata": {},
   "source": [
    "# Q10. Create a tuple of even numbers from 1 to 10."
   ]
  },
  {
   "cell_type": "code",
   "execution_count": 13,
   "id": "01a2ebe9-1b81-44c4-99c2-ae2af5a99484",
   "metadata": {},
   "outputs": [
    {
     "name": "stdout",
     "output_type": "stream",
     "text": [
      "Tuple of even numbers: (2, 4, 6, 8, 10)\n"
     ]
    }
   ],
   "source": [
    "even_numbers_tuple = tuple(x for x in range(2, 11, 2))\n",
    "\n",
    "print(\"Tuple of even numbers:\", even_numbers_tuple)\n"
   ]
  },
  {
   "cell_type": "markdown",
   "id": "d783d415-3b0c-4b38-af6a-e47e87c144da",
   "metadata": {},
   "source": [
    "# Q11. Create a tuple of odd numbers from 1 to 10."
   ]
  },
  {
   "cell_type": "code",
   "execution_count": 14,
   "id": "08dd416a-6173-4320-b977-b0141e419ef3",
   "metadata": {},
   "outputs": [
    {
     "name": "stdout",
     "output_type": "stream",
     "text": [
      "Tuple of odd numbers: (1, 3, 5, 7, 9)\n"
     ]
    }
   ],
   "source": [
    "odd_numbers_tuple = tuple(x for x in range(1, 11, 2))\n",
    "\n",
    "print(\"Tuple of odd numbers:\", odd_numbers_tuple)\n"
   ]
  },
  {
   "cell_type": "markdown",
   "id": "7ae00a24-0077-47d0-9b64-f2760cc7dcdb",
   "metadata": {},
   "source": [
    "# Q12. Concatenate two tuples."
   ]
  },
  {
   "cell_type": "code",
   "execution_count": 15,
   "id": "5c185f64-1af5-4e70-8bdc-7ef60fcad5f0",
   "metadata": {},
   "outputs": [
    {
     "name": "stdout",
     "output_type": "stream",
     "text": [
      "Concatenated tuple: (1, 2, 3, 4, 5, 6)\n"
     ]
    }
   ],
   "source": [
    "tuple1 = (1, 2, 3)\n",
    "tuple2 = (4, 5, 6)\n",
    "\n",
    "concatenated_tuple = tuple1 + tuple2\n",
    "\n",
    "print(\"Concatenated tuple:\", concatenated_tuple)\n"
   ]
  },
  {
   "cell_type": "markdown",
   "id": "1faab579-70c3-4504-965c-6688067198ee",
   "metadata": {},
   "source": [
    "# Q13. Repeat a tuple three times."
   ]
  },
  {
   "cell_type": "code",
   "execution_count": 16,
   "id": "46289d42-e259-47de-87e4-cf43f1d2abd0",
   "metadata": {},
   "outputs": [
    {
     "name": "stdout",
     "output_type": "stream",
     "text": [
      "Original tuple: (1, 2, 3)\n",
      "Repeated tuple: (1, 2, 3, 1, 2, 3, 1, 2, 3)\n"
     ]
    }
   ],
   "source": [
    "original_tuple = (1, 2, 3)\n",
    "\n",
    "repeated_tuple = original_tuple * 3\n",
    "\n",
    "print(\"Original tuple:\", original_tuple)\n",
    "print(\"Repeated tuple:\", repeated_tuple)\n"
   ]
  },
  {
   "cell_type": "markdown",
   "id": "774da379-91fa-4675-87fd-4cb286264a34",
   "metadata": {},
   "source": [
    "# Q14. Check if a tuple is empty."
   ]
  },
  {
   "cell_type": "code",
   "execution_count": 17,
   "id": "10db3215-031f-4ce7-a32f-526a6dfc3b42",
   "metadata": {},
   "outputs": [
    {
     "name": "stdout",
     "output_type": "stream",
     "text": [
      "The tuple is empty.\n"
     ]
    }
   ],
   "source": [
    "empty_tuple = ()\n",
    "\n",
    "if not empty_tuple:\n",
    "    print(\"The tuple is empty.\")\n",
    "else:\n",
    "    print(\"The tuple is not empty.\")\n"
   ]
  },
  {
   "cell_type": "markdown",
   "id": "53607019-370e-4948-acc3-b20eccde4285",
   "metadata": {},
   "source": [
    "# Q15. Create a nested tuple."
   ]
  },
  {
   "cell_type": "code",
   "execution_count": 18,
   "id": "b11ad454-93f4-4c67-9227-da94e4ad8715",
   "metadata": {},
   "outputs": [
    {
     "name": "stdout",
     "output_type": "stream",
     "text": [
      "Nested Tuple: ((1, 2, 3), ('a', 'b', 'c'), (True, False))\n"
     ]
    }
   ],
   "source": [
    "nested_tuple = ((1, 2, 3), ('a', 'b', 'c'), (True, False))\n",
    "\n",
    "print(\"Nested Tuple:\", nested_tuple)\n"
   ]
  },
  {
   "cell_type": "markdown",
   "id": "1c969d2a-edd7-4513-98ba-3b8531c43b1b",
   "metadata": {},
   "source": [
    "# Q16. Access the first element of a nested tuple."
   ]
  },
  {
   "cell_type": "code",
   "execution_count": 19,
   "id": "1ce1152a-a304-407e-9c8f-d466436c4b87",
   "metadata": {},
   "outputs": [
    {
     "name": "stdout",
     "output_type": "stream",
     "text": [
      "First element of the nested tuple: (1, 2, 3)\n"
     ]
    }
   ],
   "source": [
    "nested_tuple = ((1, 2, 3), ('a', 'b', 'c'), (True, False))\n",
    "\n",
    "first_element = nested_tuple[0]\n",
    "\n",
    "print(\"First element of the nested tuple:\", first_element)\n"
   ]
  },
  {
   "cell_type": "markdown",
   "id": "0e6c52d8-487b-4583-968c-4cf14bfbdf3d",
   "metadata": {},
   "source": [
    "# Q17. Create a tuple with a single element."
   ]
  },
  {
   "cell_type": "code",
   "execution_count": 20,
   "id": "09956f9f-30fa-421f-8fa4-b99bf485a1d3",
   "metadata": {},
   "outputs": [
    {
     "name": "stdout",
     "output_type": "stream",
     "text": [
      "Single element tuple: (42,)\n"
     ]
    }
   ],
   "source": [
    "single_element_tuple = (42,)\n",
    "\n",
    "print(\"Single element tuple:\", single_element_tuple)\n"
   ]
  },
  {
   "cell_type": "markdown",
   "id": "87e1cea1-e9cc-4ec4-91bf-348d43c1128b",
   "metadata": {},
   "source": [
    "# Q18. Compare two tuples."
   ]
  },
  {
   "cell_type": "code",
   "execution_count": 21,
   "id": "38376993-0413-4fe3-8425-bf1afdeb4cdd",
   "metadata": {},
   "outputs": [
    {
     "name": "stdout",
     "output_type": "stream",
     "text": [
      "The two tuples are equal.\n"
     ]
    }
   ],
   "source": [
    "tuple1 = (1, 2, 3)\n",
    "tuple2 = (1, 2, 3)\n",
    "\n",
    "if tuple1 == tuple2:\n",
    "    print(\"The two tuples are equal.\")\n",
    "else:\n",
    "    print(\"The two tuples are not equal.\")\n"
   ]
  },
  {
   "cell_type": "markdown",
   "id": "44c598c8-a0d2-45bd-aea3-3cd2d876c301",
   "metadata": {},
   "source": [
    "# Q19. Delete a tuple."
   ]
  },
  {
   "cell_type": "code",
   "execution_count": 22,
   "id": "9c9150c5-0a20-4b06-b03e-df307e4c7a5a",
   "metadata": {},
   "outputs": [
    {
     "name": "stdout",
     "output_type": "stream",
     "text": [
      "Original tuple: (1, 2, 3, 4, 5)\n"
     ]
    }
   ],
   "source": [
    "my_tuple = (1, 2, 3, 4, 5)\n",
    "\n",
    "# Display the original tuple\n",
    "print(\"Original tuple:\", my_tuple)\n",
    "\n",
    "# Delete the tuple\n",
    "del my_tuple"
   ]
  },
  {
   "cell_type": "markdown",
   "id": "27432b15-66de-4944-b8c9-18a009aca087",
   "metadata": {},
   "source": [
    "# Q20. Slice a tuple."
   ]
  },
  {
   "cell_type": "code",
   "execution_count": 1,
   "id": "c4a6683a-fa91-4f20-8343-4ec631f018ce",
   "metadata": {},
   "outputs": [
    {
     "name": "stdout",
     "output_type": "stream",
     "text": [
      "(3, 4, 5, 6)\n"
     ]
    }
   ],
   "source": [
    "my_tuple = (1, 2, 3, 4, 5, 6, 7, 8, 9, 10)\n",
    "\n",
    "# Slice from index 2 to 6 (exclusive)\n",
    "sliced_tuple = my_tuple[2:6]\n",
    "\n",
    "print(sliced_tuple)\n"
   ]
  },
  {
   "cell_type": "markdown",
   "id": "bc4675cd-1779-4877-b254-e6773e2b69ae",
   "metadata": {},
   "source": [
    "# Q21. Find the maximum value in a tuple."
   ]
  },
  {
   "cell_type": "code",
   "execution_count": 2,
   "id": "7ad30993-1095-4404-9adf-ff64cc8dbc70",
   "metadata": {},
   "outputs": [
    {
     "name": "stdout",
     "output_type": "stream",
     "text": [
      "Maximum value in the tuple: 15\n"
     ]
    }
   ],
   "source": [
    "my_tuple = (5, 10, 3, 8, 15, 7)\n",
    "\n",
    "max_value = max(my_tuple)\n",
    "\n",
    "print(\"Maximum value in the tuple:\", max_value)\n"
   ]
  },
  {
   "cell_type": "markdown",
   "id": "2384ae9f-b752-43ed-ab2f-356f2392f94c",
   "metadata": {},
   "source": [
    "# Q22. Find the minimum value in a tuple."
   ]
  },
  {
   "cell_type": "code",
   "execution_count": 3,
   "id": "5de8590f-3432-4038-a10c-f98aaaec1a13",
   "metadata": {},
   "outputs": [
    {
     "name": "stdout",
     "output_type": "stream",
     "text": [
      "Minimum value in the tuple: 3\n"
     ]
    }
   ],
   "source": [
    "my_tuple = (5, 10, 3, 8, 15, 7)\n",
    "\n",
    "min_value = min(my_tuple)\n",
    "\n",
    "print(\"Minimum value in the tuple:\", min_value)\n"
   ]
  },
  {
   "cell_type": "markdown",
   "id": "52be8aa9-d01e-495a-b560-cfc9c4715713",
   "metadata": {},
   "source": [
    "# Q23. Convert a string to a tuple of characters."
   ]
  },
  {
   "cell_type": "code",
   "execution_count": 6,
   "id": "c24615c1-84f3-432d-a5aa-5fe0a574b044",
   "metadata": {},
   "outputs": [
    {
     "name": "stdout",
     "output_type": "stream",
     "text": [
      "('H', 'e', 'l', 'l', 'o', ',', ' ', 'p', 'w')\n"
     ]
    }
   ],
   "source": [
    "my_string = \"Hello, pw\"\n",
    "\n",
    "# Convert the string to a tuple of characters\n",
    "tuple_of_characters = tuple(my_string)\n",
    "\n",
    "print(tuple_of_characters)\n"
   ]
  },
  {
   "cell_type": "markdown",
   "id": "24eb0158-8ef9-411f-a08f-1279c66ec963",
   "metadata": {},
   "source": [
    "# Q24. Convert a tuple of characters to a string."
   ]
  },
  {
   "cell_type": "code",
   "execution_count": 8,
   "id": "8dcfb74a-4b73-4580-bd80-a9426f802675",
   "metadata": {},
   "outputs": [
    {
     "name": "stdout",
     "output_type": "stream",
     "text": [
      "Hello pw\n"
     ]
    }
   ],
   "source": [
    "tuple_of_characters = ('H', 'e', 'l', 'l', 'o',  ' ', 'pw')\n",
    "\n",
    "# Convert the tuple of characters to a string\n",
    "string_from_tuple = ''.join(tuple_of_characters)\n",
    "\n",
    "print(string_from_tuple)\n"
   ]
  },
  {
   "cell_type": "markdown",
   "id": "a8fd49a2-e418-4db7-8fbb-c3b54ebe195b",
   "metadata": {},
   "source": [
    "# Q25. Create a tuple from multiple data types."
   ]
  },
  {
   "cell_type": "code",
   "execution_count": 9,
   "id": "4814bc4b-39d8-4e09-8fb4-0238d0e8cb64",
   "metadata": {},
   "outputs": [
    {
     "name": "stdout",
     "output_type": "stream",
     "text": [
      "(1, 'hello', 3.14, True, [5, 6, 7])\n"
     ]
    }
   ],
   "source": [
    "tuple = (1, 'hello', 3.14, True, [5, 6, 7])\n",
    "\n",
    "print(tuple)\n"
   ]
  },
  {
   "cell_type": "markdown",
   "id": "acab5097-8a74-4d38-81cb-03cc3a921ce6",
   "metadata": {},
   "source": [
    "# Q26. Check if two tuples are identical."
   ]
  },
  {
   "cell_type": "code",
   "execution_count": 11,
   "id": "f74e4b88-88be-4c17-a7f2-09f00e33543b",
   "metadata": {},
   "outputs": [
    {
     "name": "stdout",
     "output_type": "stream",
     "text": [
      "The two tuples are not identical.\n"
     ]
    }
   ],
   "source": [
    "tuple1 = (1, 2, 3, 'hello')\n",
    "tuple2 = (1, 2, 3, 'hell')\n",
    "\n",
    "if tuple1 == tuple2:\n",
    "    print(\"The two tuples are identical.\")\n",
    "else:\n",
    "    print(\"The two tuples are not identical.\")\n"
   ]
  },
  {
   "cell_type": "markdown",
   "id": "dc394941-01be-496d-b392-0d05166766be",
   "metadata": {},
   "source": [
    "# Q27. Sort the elements of a tuple."
   ]
  },
  {
   "cell_type": "code",
   "execution_count": 20,
   "id": "5fb5f2db-7857-4616-85af-b2e2d6f1dcdf",
   "metadata": {},
   "outputs": [
    {
     "ename": "AttributeError",
     "evalue": "'tuple' object has no attribute 'sorted'",
     "output_type": "error",
     "traceback": [
      "\u001b[0;31m---------------------------------------------------------------------------\u001b[0m",
      "\u001b[0;31mAttributeError\u001b[0m                            Traceback (most recent call last)",
      "Cell \u001b[0;32mIn[20], line 4\u001b[0m\n\u001b[1;32m      1\u001b[0m tuple_1 \u001b[38;5;241m=\u001b[39m (\u001b[38;5;241m4\u001b[39m, \u001b[38;5;241m1\u001b[39m, \u001b[38;5;241m7\u001b[39m, \u001b[38;5;241m3\u001b[39m, \u001b[38;5;241m9\u001b[39m, \u001b[38;5;241m2\u001b[39m)\n\u001b[0;32m----> 4\u001b[0m \u001b[43mtuple_1\u001b[49m\u001b[38;5;241;43m.\u001b[39;49m\u001b[43msorted\u001b[49m\n\u001b[1;32m      6\u001b[0m \u001b[38;5;28mprint\u001b[39m(tuple_1)\n",
      "\u001b[0;31mAttributeError\u001b[0m: 'tuple' object has no attribute 'sorted'"
     ]
    }
   ],
   "source": [
    "tuple_1 = (4, 1, 7, 3, 9, 2)\n",
    "\n",
    "\n",
    "tuple_1.sorted\n",
    "\n",
    "print(tuple_1)\n"
   ]
  },
  {
   "cell_type": "markdown",
   "id": "ead31ace-6fea-4f11-99e7-888cd542b31a",
   "metadata": {},
   "source": [
    "# Q28. Convert a tuple of integers to a tuple of strings."
   ]
  },
  {
   "cell_type": "code",
   "execution_count": null,
   "id": "6eedc695-a58e-478f-bf65-7175d7256eb0",
   "metadata": {},
   "outputs": [],
   "source": []
  },
  {
   "cell_type": "markdown",
   "id": "f0fac28d-48d3-48f1-9435-a553c633af51",
   "metadata": {},
   "source": [
    "# Q30. Merge two tuples."
   ]
  },
  {
   "cell_type": "code",
   "execution_count": 25,
   "id": "57e9bbf8-936d-44e6-8b6d-e880ac9c0bf5",
   "metadata": {},
   "outputs": [
    {
     "name": "stdout",
     "output_type": "stream",
     "text": [
      "('a', 'b', 'c', 1, 2, 3)\n"
     ]
    }
   ],
   "source": [
    "tuple1 = (\"a\", \"b\" , \"c\")\n",
    "tuple2 = (1, 2, 3)\n",
    "\n",
    "tuple3 = tuple1 + tuple2\n",
    "print(tuple3)"
   ]
  },
  {
   "cell_type": "markdown",
   "id": "58a2bcc4-af9e-4b7b-8489-51cfdc5d82a0",
   "metadata": {},
   "source": [
    "# Q32. Create a tuple of the first 5 prime numbers."
   ]
  },
  {
   "cell_type": "code",
   "execution_count": 27,
   "id": "c1c00957-699e-46eb-b0de-e81474da2a3c",
   "metadata": {},
   "outputs": [
    {
     "name": "stdout",
     "output_type": "stream",
     "text": [
      "Tuple of the First 5 Prime Numbers: (2, 3, 5, 7, 11)\n"
     ]
    }
   ],
   "source": [
    "first_five_primes = (2, 3, 5, 7, 11)\n",
    "\n",
    "print(\"Tuple of the First 5 Prime Numbers:\", first_five_primes)\n"
   ]
  },
  {
   "cell_type": "markdown",
   "id": "bdbecf79-5743-4ae0-a110-d4ed502e1cb6",
   "metadata": {},
   "source": [
    "# Q33. Check if a tuple is a palindrome."
   ]
  },
  {
   "cell_type": "code",
   "execution_count": 30,
   "id": "37d4cb60-7bf5-4e05-a10f-eb818996a82e",
   "metadata": {},
   "outputs": [
    {
     "name": "stdout",
     "output_type": "stream",
     "text": [
      "True\n"
     ]
    }
   ],
   "source": [
    "def is_palindrome_tuple(my_tuple):\n",
    "    return my_tuple == my_tuple[::-1]\n",
    "\n",
    "# Example usage:\n",
    "example_tuple1 = (1, 2, 3, 2, 1)\n",
    "\n",
    "print(is_palindrome_tuple(example_tuple1))  # Output: True"
   ]
  },
  {
   "cell_type": "markdown",
   "id": "77be6f96-4b00-4b2c-9596-61768753135f",
   "metadata": {},
   "source": [
    "# Q34. Create a tuple of squares of numbers from 1 to 5."
   ]
  },
  {
   "cell_type": "code",
   "execution_count": 28,
   "id": "a2a6b62b-eba9-4349-b693-df88e136b8c6",
   "metadata": {},
   "outputs": [
    {
     "name": "stdout",
     "output_type": "stream",
     "text": [
      "(1, 4, 9, 16, 25)\n"
     ]
    }
   ],
   "source": [
    "squares_tuple = (1**2, 2**2, 3**2, 4**2, 5**2)\n",
    "print(squares_tuple)\n"
   ]
  },
  {
   "cell_type": "markdown",
   "id": "65a5365e-8d80-4e6b-bdef-c42241d6ae46",
   "metadata": {},
   "source": [
    "# Q35. Filter out all even numbers from a tuple."
   ]
  },
  {
   "cell_type": "code",
   "execution_count": 45,
   "id": "8dcf2954-abbc-413e-b4fb-20fe107b7684",
   "metadata": {},
   "outputs": [
    {
     "name": "stdout",
     "output_type": "stream",
     "text": [
      "After Filteration of all the tuple: [(2, 4)]\n"
     ]
    }
   ],
   "source": [
    "tuple_list = [(80, 111, 211),(2,4)]\n",
    "\n",
    "result = [tup for tup in tuple_list if all(ele % 2 == 0 for ele in tup)]\n",
    "print(\"After Filteration of all the tuple:\",result)"
   ]
  },
  {
   "cell_type": "markdown",
   "id": "eb7ca40a-6c57-4161-b7c6-0fff01b5da44",
   "metadata": {},
   "source": [
    "# Q36. Multiply all elements in a tuple by 2."
   ]
  },
  {
   "cell_type": "code",
   "execution_count": 47,
   "id": "a73341f7-1b35-49a5-9037-4876ec33b5f8",
   "metadata": {},
   "outputs": [
    {
     "name": "stdout",
     "output_type": "stream",
     "text": [
      "\n",
      "The answer is\n",
      "[6, 10, 14, 16]\n"
     ]
    }
   ],
   "source": [
    "# Python code to convert list of tuple into list of elements\n",
    "# formed by multiplying elements of tuple.\n",
    "\n",
    "# Input list initialisation\n",
    "Input = [(2, 3), (2, 5), (2, 7), (2, 8)]\n",
    "\n",
    "# Output list initialisation\n",
    "Output = []\n",
    "\n",
    "# Iteration to multiply element and append multiplied element in \n",
    "# new list\n",
    "for elem in Input:\n",
    "\ttemp = elem[0]*elem[1]\n",
    "\tOutput.append(temp)\n",
    "\n",
    "print(\"\\nThe answer is\")\n",
    "print(Output)\n"
   ]
  },
  {
   "cell_type": "markdown",
   "id": "a1c1eae0-a09b-4ad0-901e-24933b5fa9aa",
   "metadata": {},
   "source": [
    "# Q37. Create a tuple of random numbers."
   ]
  },
  {
   "cell_type": "code",
   "execution_count": 49,
   "id": "c907241a-e914-43f8-84fd-0ea98518b391",
   "metadata": {},
   "outputs": [
    {
     "name": "stdout",
     "output_type": "stream",
     "text": [
      "[(7,), (5,), (3,), (6,), (2,), (9,), (5,), (8,), (7,), (4,)]\n"
     ]
    }
   ],
   "source": [
    "import random\n",
    "\n",
    "low = 1\n",
    "high = 9\n",
    "\n",
    "mylist = [(random.randint(low, high), ) for k in range(10)]\n",
    "\n",
    "print(mylist)\n"
   ]
  },
  {
   "cell_type": "markdown",
   "id": "8e0856e3-29b8-4aa9-974f-cc6a4c18d099",
   "metadata": {},
   "source": [
    "# Q38. Check if a tuple is sorted."
   ]
  },
  {
   "cell_type": "code",
   "execution_count": 53,
   "id": "eef4c20c-3efd-475a-ba5f-35f591d19ce1",
   "metadata": {},
   "outputs": [
    {
     "name": "stdout",
     "output_type": "stream",
     "text": [
      "True\n",
      "False\n"
     ]
    }
   ],
   "source": [
    "def is_sorted_tuple(my_tuple):\n",
    "    return all(my_tuple[i] <= my_tuple[i + 1] for i in range(len(my_tuple) - 1))\n",
    "\n",
    "# Example usage:\n",
    "sorted_tuple = (1, 2, 3, 4, 5)\n",
    "unsorted_tuple = (5, 2, 8, 1, 7)\n",
    "\n",
    "print(is_sorted_tuple(sorted_tuple))    # Output: True\n",
    "print(is_sorted_tuple(unsorted_tuple))  # Output: False\n"
   ]
  },
  {
   "cell_type": "markdown",
   "id": "722257f1-e668-41aa-923f-30852c3ab6de",
   "metadata": {},
   "source": [
    "# Q41. Create a tuple of the first 5 Fibonacci numbers."
   ]
  },
  {
   "cell_type": "code",
   "execution_count": null,
   "id": "4c1bebee-406e-45aa-adc6-48df1e0811a7",
   "metadata": {},
   "outputs": [],
   "source": []
  },
  {
   "cell_type": "markdown",
   "id": "8aa95f6b-db79-4a7e-80c6-3ed36ff61b6d",
   "metadata": {},
   "source": [
    "# Q42. Create a tuple from user input."
   ]
  },
  {
   "cell_type": "code",
   "execution_count": 62,
   "id": "c778ec73-657c-45e1-9bd0-4478cce16622",
   "metadata": {},
   "outputs": [
    {
     "name": "stdin",
     "output_type": "stream",
     "text": [
      "Enter elements for the tuple   1\n"
     ]
    },
    {
     "name": "stdout",
     "output_type": "stream",
     "text": [
      "User Tuple: True\n"
     ]
    }
   ],
   "source": [
    "# Get user input as a comma-separated string\n",
    "user_input_str = input(\"Enter elements for the tuple  \")\n",
    "\n",
    "# Convert the input string into a tuple\n",
    "user_tuple = all(map(int, user_input_str.split(',')))\n",
    "\n",
    "# Print the resulting tuple\n",
    "print(\"User Tuple:\", user_tuple)\n"
   ]
  },
  {
   "cell_type": "markdown",
   "id": "af2a9ecf-e687-4cbd-b2b4-26520952a836",
   "metadata": {},
   "source": [
    "# Q43. Swap two elements in a tuple."
   ]
  },
  {
   "cell_type": "code",
   "execution_count": null,
   "id": "4afd6212-11aa-49a6-a962-574b90872be7",
   "metadata": {},
   "outputs": [],
   "source": []
  },
  {
   "cell_type": "markdown",
   "id": "2c74169c-b3b8-4a39-81bf-018bbf74948b",
   "metadata": {},
   "source": [
    "# Q44. Reverse the elements of a tuple."
   ]
  },
  {
   "cell_type": "code",
   "execution_count": 63,
   "id": "ab14dcc2-34b4-49ae-8f02-528971aa1dc2",
   "metadata": {},
   "outputs": [
    {
     "name": "stdout",
     "output_type": "stream",
     "text": [
      "Original Tuple: (1, 2, 3, 4, 5)\n",
      "Reversed Tuple: (5, 4, 3, 2, 1)\n"
     ]
    }
   ],
   "source": [
    "# Original tuple\n",
    "original_tuple = (1, 2, 3, 4, 5)\n",
    "\n",
    "# Reverse the tuple using slicing\n",
    "reversed_tuple = original_tuple[::-1]\n",
    "\n",
    "# Print the original and reversed tuples\n",
    "print(\"Original Tuple:\", original_tuple)\n",
    "print(\"Reversed Tuple:\", reversed_tuple)\n"
   ]
  },
  {
   "cell_type": "markdown",
   "id": "d06f18b6-179c-4f80-bb34-a9ca641f1e71",
   "metadata": {},
   "source": [
    "# Q46. Find the longest string in a tuple of strings."
   ]
  },
  {
   "cell_type": "code",
   "execution_count": 64,
   "id": "8803ad00-c13b-4c7b-9fa1-d4fe32583617",
   "metadata": {},
   "outputs": [
    {
     "name": "stdout",
     "output_type": "stream",
     "text": [
      "Longest String: krish\n"
     ]
    }
   ],
   "source": [
    "# Tuple of strings\n",
    "string_tuple = (\"pw\", \"shud\", \"krish\", \"imran\", \"alak\")\n",
    "\n",
    "# Find the longest string using the max function and len as the key\n",
    "longest_string = max(string_tuple, key=len)\n",
    "\n",
    "# Print the longest string\n",
    "print(\"Longest String:\", longest_string)\n"
   ]
  },
  {
   "cell_type": "markdown",
   "id": "ea59ea35-28af-4dd2-b824-10948c68649d",
   "metadata": {},
   "source": [
    "# Q47. Find the shortest string in a tuple of strings."
   ]
  },
  {
   "cell_type": "code",
   "execution_count": 66,
   "id": "53163acf-f7eb-4433-ae27-2bd606dfd21e",
   "metadata": {},
   "outputs": [
    {
     "name": "stdout",
     "output_type": "stream",
     "text": [
      "Shortest String: pw\n"
     ]
    }
   ],
   "source": [
    "# Tuple of strings\n",
    "string_tuple = (\"pw\", \"shud\", \"krish\", \"imran\", \"alak\")\n",
    "\n",
    "# Find the shortest string using the max function and len as the key\n",
    "shortest_string = min(string_tuple, key=len)\n",
    "\n",
    "# Print the longest string\n",
    "print(\"Shortest String:\", shortest_string)\n"
   ]
  },
  {
   "cell_type": "markdown",
   "id": "4ace4c99-27f2-4f21-aff9-106f489671e9",
   "metadata": {},
   "source": [
    "# Set Based Practice Problem :"
   ]
  },
  {
   "cell_type": "markdown",
   "id": "01a68395-f715-4817-a408-153dbb19a6a5",
   "metadata": {},
   "source": [
    " # Q1. Create a set with integers from 1 to 5."
   ]
  },
  {
   "cell_type": "code",
   "execution_count": 69,
   "id": "80622538-4073-4fe3-849a-b10757530394",
   "metadata": {},
   "outputs": [
    {
     "name": "stdout",
     "output_type": "stream",
     "text": [
      "{1, 2, 3, 4, 5}\n"
     ]
    }
   ],
   "source": [
    "set1 = set([1, 2, 3, 4, 5])\n",
    "print(set1)\n"
   ]
  },
  {
   "cell_type": "markdown",
   "id": "3b45e098-a11a-4f19-a86c-fdd7d58b7e68",
   "metadata": {},
   "source": [
    "# Q2. Add an element to a set."
   ]
  },
  {
   "cell_type": "code",
   "execution_count": 71,
   "id": "c83ce896-adc4-4134-9d62-834d9acb2ba5",
   "metadata": {},
   "outputs": [
    {
     "name": "stdout",
     "output_type": "stream",
     "text": [
      "{1, 2, 3, 4, 5, 6}\n"
     ]
    }
   ],
   "source": [
    "set1 = set([1, 2, 3, 4, 5])\n",
    "set1.add(6)\n",
    "print(set1)\n",
    "\n",
    "\n"
   ]
  },
  {
   "cell_type": "markdown",
   "id": "3f5c6917-d04e-4f69-a72d-9199abb82c8b",
   "metadata": {},
   "source": [
    "# Q3. Remove an element from a set."
   ]
  },
  {
   "cell_type": "code",
   "execution_count": 72,
   "id": "63915927-ae9b-405b-9848-5e28c081cf9a",
   "metadata": {},
   "outputs": [
    {
     "name": "stdout",
     "output_type": "stream",
     "text": [
      "{1, 2, 4, 5, 6}\n"
     ]
    }
   ],
   "source": [
    "set1 = set([1, 2, 3, 4, 5])\n",
    "set1.add(6)\n",
    "set1.remove(3)\n",
    "print(set1)\n"
   ]
  },
  {
   "cell_type": "markdown",
   "id": "2d9bdabc-9dbe-4209-8db4-164b1b677985",
   "metadata": {},
   "source": [
    "# Q4. Check if an element exists in a set."
   ]
  },
  {
   "cell_type": "code",
   "execution_count": 75,
   "id": "451619f2-d80d-4937-b143-15f82a375c60",
   "metadata": {},
   "outputs": [
    {
     "name": "stdout",
     "output_type": "stream",
     "text": [
      "Does 3 exist in the set? True\n"
     ]
    }
   ],
   "source": [
    "# Create a set\n",
    "my_set = {1, 2, 3, 4, 5}\n",
    "\n",
    "# Check if an element exists in the set\n",
    "element_to_check = 3\n",
    "element_exists = element_to_check in my_set\n",
    "\n",
    "# Print the result\n",
    "print(f\"Does {element_to_check} exist in the set? {element_exists}\")\n"
   ]
  },
  {
   "cell_type": "markdown",
   "id": "90fc6b61-d3f8-460c-abb0-6ab1afa70170",
   "metadata": {},
   "source": [
    "# Q5. Find the length of a set without using the `len()` function."
   ]
  },
  {
   "cell_type": "code",
   "execution_count": 78,
   "id": "fc690062-f515-4d0d-be08-e9bb55af4243",
   "metadata": {},
   "outputs": [
    {
     "name": "stdout",
     "output_type": "stream",
     "text": [
      "The length of the set is: 5\n"
     ]
    }
   ],
   "source": [
    "# Create a set\n",
    "my_set = {1, 2, 3, 4, 5}\n",
    "\n",
    "# Find the length of the set without using len()\n",
    "set_length = sum(1 for _ in my_set)\n",
    "\n",
    "# Print the result\n",
    "print(f\"The length of the set is: {set_length}\")\n"
   ]
  },
  {
   "cell_type": "markdown",
   "id": "ace4355f-2069-44ac-b494-5911dab56582",
   "metadata": {},
   "source": [
    "# Q6. Clear all elements from a set."
   ]
  },
  {
   "cell_type": "code",
   "execution_count": 79,
   "id": "f7e17544-8583-4f68-a832-4a70e3503db3",
   "metadata": {},
   "outputs": [
    {
     "name": "stdout",
     "output_type": "stream",
     "text": [
      "set()\n"
     ]
    }
   ],
   "source": [
    "# Create a set\n",
    "my_set = {1, 2, 3, 4, 5}\n",
    "\n",
    "# Clear all elements from the set\n",
    "my_set.clear()\n",
    "print( my_set)\n"
   ]
  },
  {
   "cell_type": "markdown",
   "id": "8c66ce26-b639-43a4-88df-6bb42d1b94ee",
   "metadata": {},
   "source": [
    "# Q7. Create a set of even numbers from 1 to 10."
   ]
  },
  {
   "cell_type": "code",
   "execution_count": 80,
   "id": "32f2f1a8-4fd3-42d3-a7ee-379dfc088f9d",
   "metadata": {},
   "outputs": [
    {
     "name": "stdout",
     "output_type": "stream",
     "text": [
      "Set of even numbers: {2, 4, 6, 8, 10}\n"
     ]
    }
   ],
   "source": [
    "# Create a set of even numbers from 1 to 10\n",
    "even_numbers_set = {i for i in range(2, 11, 2)}\n",
    "\n",
    "# Print the set of even numbers\n",
    "print(\"Set of even numbers:\", even_numbers_set)\n",
    "\n"
   ]
  },
  {
   "cell_type": "markdown",
   "id": "0a27f45b-2230-4c40-810b-2538d6df3308",
   "metadata": {},
   "source": [
    "# Q8. Create a set of odd numbers from 1 to 10."
   ]
  },
  {
   "cell_type": "code",
   "execution_count": 81,
   "id": "db9e8e9d-78a3-4749-908a-96889c7386d7",
   "metadata": {},
   "outputs": [
    {
     "name": "stdout",
     "output_type": "stream",
     "text": [
      "Set of odd numbers: {1, 3, 5, 7, 9}\n"
     ]
    }
   ],
   "source": [
    "# Create a set of odd numbers from 1 to 10\n",
    "odd_numbers_set = {i for i in range(1, 11, 2)}\n",
    "\n",
    "# Print the set of odd numbers\n",
    "print(\"Set of odd numbers:\", odd_numbers_set)\n"
   ]
  },
  {
   "cell_type": "markdown",
   "id": "6ad1ed52-71b4-4794-a63b-1ab22ec5849a",
   "metadata": {},
   "source": [
    "# Q9. Find the union of two sets."
   ]
  },
  {
   "cell_type": "code",
   "execution_count": null,
   "id": "7bb39b9e-c927-4400-8f8f-613ad644e215",
   "metadata": {},
   "outputs": [],
   "source": []
  },
  {
   "cell_type": "markdown",
   "id": "ea443b1f-45a3-4483-9aac-274bfe3e7732",
   "metadata": {},
   "source": [
    "# Q11. Find the difference between two sets."
   ]
  },
  {
   "cell_type": "code",
   "execution_count": 82,
   "id": "c6caa7dc-eb61-44a0-8170-3cec6deea980",
   "metadata": {},
   "outputs": [
    {
     "name": "stdout",
     "output_type": "stream",
     "text": [
      "Difference using method: {1, 2, 3}\n",
      "Difference using operator: {1, 2, 3}\n"
     ]
    }
   ],
   "source": [
    "# Create two sets\n",
    "set1 = {1, 2, 3, 4, 5}\n",
    "set2 = {4, 5, 6, 7, 8}\n",
    "\n",
    "# Find the difference using the difference() method\n",
    "difference_set_method = set1.difference(set2)\n",
    "\n",
    "# Find the difference using the - operator\n",
    "difference_set_operator = set1 - set2\n",
    "\n",
    "# Print the difference sets\n",
    "print(\"Difference using method:\", difference_set_method)\n",
    "print(\"Difference using operator:\", difference_set_operator)\n"
   ]
  },
  {
   "cell_type": "markdown",
   "id": "b2000f0f-4122-4dc0-9e3d-5f43ad977101",
   "metadata": {},
   "source": [
    "# Q12. Check if a set is a subset of another set."
   ]
  },
  {
   "cell_type": "code",
   "execution_count": 83,
   "id": "4da37d28-49b2-4d16-9c47-d8900ade9111",
   "metadata": {},
   "outputs": [
    {
     "name": "stdout",
     "output_type": "stream",
     "text": [
      "Is set2 a subset of set1? True\n"
     ]
    }
   ],
   "source": [
    "# Create two sets\n",
    "set1 = {1, 2, 3, 4, 5}\n",
    "set2 = {2, 4}\n",
    "\n",
    "# Check if set2 is a subset of set1\n",
    "is_subset = set2.issubset(set1)\n",
    "\n",
    "# Print the result\n",
    "print(\"Is set2 a subset of set1?\", is_subset)\n"
   ]
  },
  {
   "cell_type": "markdown",
   "id": "7ad1145a-3374-4fd2-b210-e1436cdebfa3",
   "metadata": {},
   "source": [
    "# Q13. Check if a set is a superset of another set."
   ]
  },
  {
   "cell_type": "code",
   "execution_count": 84,
   "id": "5dfb8a34-79f2-4555-aef3-51e502c8f205",
   "metadata": {},
   "outputs": [
    {
     "name": "stdout",
     "output_type": "stream",
     "text": [
      "Is set1 a superset of set2? True\n"
     ]
    }
   ],
   "source": [
    "# Create two sets\n",
    "set1 = {1, 2, 3, 4, 5}\n",
    "set2 = {2, 4}\n",
    "\n",
    "# Check if set1 is a superset of set2\n",
    "is_superset = set1.issuperset(set2)\n",
    "\n",
    "# Print the result\n",
    "print(\"Is set1 a superset of set2?\", is_superset)\n"
   ]
  },
  {
   "cell_type": "markdown",
   "id": "79081560-6c83-4539-a753-eaf3186a5f53",
   "metadata": {},
   "source": [
    "# Q14. Create a set from a list."
   ]
  },
  {
   "cell_type": "code",
   "execution_count": 86,
   "id": "916df42d-cd95-45ef-a61c-5c05d92eb241",
   "metadata": {},
   "outputs": [
    {
     "name": "stdout",
     "output_type": "stream",
     "text": [
      "Set created from list: {1, 2, 3, 4, 5}\n"
     ]
    }
   ],
   "source": [
    "# Create a list\n",
    "my_list = [1, 2, 3, 4, 5, 1, 2, 3, 4, 5]\n",
    "\n",
    "# Create a set from the list\n",
    "my_set = set(my_list)\n",
    "\n",
    "# Print the set\n",
    "print(\"Set created from list:\", my_set)\n"
   ]
  },
  {
   "cell_type": "markdown",
   "id": "11339ae1-844e-4aae-b511-202a2488f1a2",
   "metadata": {},
   "source": [
    "# Q15. Convert a set to a list."
   ]
  },
  {
   "cell_type": "code",
   "execution_count": 87,
   "id": "fb8bb47b-92a7-443b-8667-4bf361b5acc7",
   "metadata": {},
   "outputs": [
    {
     "name": "stdout",
     "output_type": "stream",
     "text": [
      "List created from set: [1, 2, 3, 4, 5]\n"
     ]
    }
   ],
   "source": [
    "# Create a set\n",
    "my_set = {1, 2, 3, 4, 5}\n",
    "\n",
    "# Convert the set to a list\n",
    "my_list = list(my_set)\n",
    "\n",
    "# Print the list\n",
    "print(\"List created from set:\", my_list)\n"
   ]
  },
  {
   "cell_type": "markdown",
   "id": "843582b8-8d7c-42b8-8498-113250266313",
   "metadata": {},
   "source": [
    "# Q16. Remove a random element from a set."
   ]
  },
  {
   "cell_type": "code",
   "execution_count": 88,
   "id": "f5da78d3-9401-443b-bd1e-d44fd6b0ad9f",
   "metadata": {},
   "outputs": [
    {
     "name": "stdout",
     "output_type": "stream",
     "text": [
      "Removed Element: 1\n",
      "Updated Set: {2, 3, 4, 5}\n"
     ]
    }
   ],
   "source": [
    "# Create a set\n",
    "my_set = {1, 2, 3, 4, 5}\n",
    "\n",
    "# Remove a random element from the set\n",
    "removed_element = my_set.pop()\n",
    "\n",
    "# Print the removed element and the updated set\n",
    "print(\"Removed Element:\", removed_element)\n",
    "print(\"Updated Set:\", my_set)\n"
   ]
  },
  {
   "cell_type": "markdown",
   "id": "a8ea2fa8-f8c3-419d-a0e5-30128545bf66",
   "metadata": {},
   "source": [
    "# Q17. Pop an element from a set."
   ]
  },
  {
   "cell_type": "code",
   "execution_count": 89,
   "id": "c5fc113d-731f-4655-8776-a1024d50e2b0",
   "metadata": {},
   "outputs": [
    {
     "name": "stdout",
     "output_type": "stream",
     "text": [
      "Popped Element: 1\n",
      "Updated Set: {2, 3, 4, 5}\n"
     ]
    }
   ],
   "source": [
    "# Create a set\n",
    "my_set = {1, 2, 3, 4, 5}\n",
    "\n",
    "# Pop an element from the set\n",
    "popped_element = my_set.pop()\n",
    "\n",
    "# Print the popped element and the updated set\n",
    "print(\"Popped Element:\", popped_element)\n",
    "print(\"Updated Set:\", my_set)\n"
   ]
  },
  {
   "cell_type": "markdown",
   "id": "51385c60-fc63-4027-8cb0-451fc35c7f59",
   "metadata": {},
   "source": [
    "# Q18. Check if two sets have no elements in common."
   ]
  },
  {
   "cell_type": "code",
   "execution_count": 90,
   "id": "5a2dae61-5302-4840-ab63-72001d3de6a0",
   "metadata": {},
   "outputs": [
    {
     "name": "stdout",
     "output_type": "stream",
     "text": [
      "Do the sets have no elements in common? True\n"
     ]
    }
   ],
   "source": [
    "# Create two sets\n",
    "set1 = {1, 2, 3}\n",
    "set2 = {4, 5, 6}\n",
    "\n",
    "# Check if the sets have no elements in common\n",
    "no_common_elements = set1.isdisjoint(set2)\n",
    "\n",
    "# Print the result\n",
    "print(\"Do the sets have no elements in common?\", no_common_elements)\n"
   ]
  },
  {
   "cell_type": "markdown",
   "id": "0e21ba55-65a5-4509-8ede-074442761735",
   "metadata": {},
   "source": [
    "# Q19. Find the symmetric difference between two sets."
   ]
  },
  {
   "cell_type": "code",
   "execution_count": 91,
   "id": "27c8a144-888b-4727-bdad-1fd0d1766fb7",
   "metadata": {},
   "outputs": [
    {
     "name": "stdout",
     "output_type": "stream",
     "text": [
      "Symmetric Difference using method: {1, 2, 3, 6, 7, 8}\n",
      "Symmetric Difference using operator: {1, 2, 3, 6, 7, 8}\n"
     ]
    }
   ],
   "source": [
    "# Create two sets\n",
    "set1 = {1, 2, 3, 4, 5}\n",
    "set2 = {4, 5, 6, 7, 8}\n",
    "\n",
    "# Find the symmetric difference using the symmetric_difference() method\n",
    "symmetric_difference_method = set1.symmetric_difference(set2)\n",
    "\n",
    "# Find the symmetric difference using the ^ operator\n",
    "symmetric_difference_operator = set1 ^ set2\n",
    "\n",
    "# Print the symmetric difference sets\n",
    "print(\"Symmetric Difference using method:\", symmetric_difference_method)\n",
    "print(\"Symmetric Difference using operator:\", symmetric_difference_operator)\n"
   ]
  },
  {
   "cell_type": "markdown",
   "id": "5e01be4a-73fe-4858-aceb-8c7d829160a8",
   "metadata": {},
   "source": [
    "# Q21. Create a set of the first 5 prime numbers."
   ]
  },
  {
   "cell_type": "code",
   "execution_count": 93,
   "id": "883f1a75-9476-420d-8247-aa031208d9de",
   "metadata": {},
   "outputs": [
    {
     "name": "stdout",
     "output_type": "stream",
     "text": [
      "Set of the first 5 prime numbers: {2, 3, 5, 7, 11}\n"
     ]
    }
   ],
   "source": [
    "# Create a set of the first 5 prime numbers\n",
    "prime_numbers_set = {2, 3, 5, 7, 11}\n",
    "\n",
    "# Print the set\n",
    "print(\"Set of the first 5 prime numbers:\", prime_numbers_set)\n"
   ]
  },
  {
   "cell_type": "markdown",
   "id": "cb7be1a0-737a-45d1-bed9-3aa0d1b2ff53",
   "metadata": {},
   "source": [
    "# Q22. Check if two sets are identical."
   ]
  },
  {
   "cell_type": "code",
   "execution_count": 94,
   "id": "ec565ce5-f8d7-4f35-a248-83b1015e241a",
   "metadata": {},
   "outputs": [
    {
     "name": "stdout",
     "output_type": "stream",
     "text": [
      "Are the sets identical? True\n"
     ]
    }
   ],
   "source": [
    "# Create two sets\n",
    "set1 = {1, 2, 3, 4, 5}\n",
    "set2 = {5, 4, 3, 2, 1}\n",
    "\n",
    "# Check if the sets are identical using the == operator\n",
    "are_identical = set1 == set2\n",
    "\n",
    "# Print the result\n",
    "print(\"Are the sets identical?\", are_identical)\n"
   ]
  },
  {
   "cell_type": "markdown",
   "id": "0b068181-7d38-4ac9-a450-bd578f33cec3",
   "metadata": {},
   "source": [
    "# Q23. Create a frozen set."
   ]
  },
  {
   "cell_type": "code",
   "execution_count": 95,
   "id": "08ab7e15-2b42-4a18-afc0-3c811b475b3a",
   "metadata": {},
   "outputs": [
    {
     "name": "stdout",
     "output_type": "stream",
     "text": [
      "Frozen Set: frozenset({1, 2, 3, 4, 5})\n"
     ]
    }
   ],
   "source": [
    "# Create a set\n",
    "my_set = {1, 2, 3, 4, 5}\n",
    "\n",
    "# Create a frozen set\n",
    "frozen_set = frozenset(my_set)\n",
    "\n",
    "# Print the frozen set\n",
    "print(\"Frozen Set:\", frozen_set)\n"
   ]
  },
  {
   "cell_type": "markdown",
   "id": "bfe98335-fb40-4fd0-9889-2429a21b0784",
   "metadata": {},
   "source": [
    "# Q24. Check if a set is disjoint with another set."
   ]
  },
  {
   "cell_type": "code",
   "execution_count": 96,
   "id": "37f08d11-de58-43a3-b4e3-f5a5a85e5df5",
   "metadata": {},
   "outputs": [
    {
     "name": "stdout",
     "output_type": "stream",
     "text": [
      "Are the sets disjoint? True\n"
     ]
    }
   ],
   "source": [
    "# Create two sets\n",
    "set1 = {1, 2, 3}\n",
    "set2 = {4, 5, 6}\n",
    "\n",
    "# Check if the sets are disjoint using the isdisjoint() method\n",
    "are_disjoint = set1.isdisjoint(set2)\n",
    "\n",
    "# Print the result\n",
    "print(\"Are the sets disjoint?\", are_disjoint)\n"
   ]
  },
  {
   "cell_type": "markdown",
   "id": "b8c491a2-fe38-44a9-92b9-cf90efedd8fc",
   "metadata": {},
   "source": [
    "# Q25. Create a set of squares of numbers from 1 to 5."
   ]
  },
  {
   "cell_type": "code",
   "execution_count": 97,
   "id": "71905d49-c099-402d-9e0e-446f406dd56a",
   "metadata": {},
   "outputs": [
    {
     "name": "stdout",
     "output_type": "stream",
     "text": [
      "Set of squares: {1, 4, 9, 16, 25}\n"
     ]
    }
   ],
   "source": [
    "# Create a set of squares of numbers from 1 to 5\n",
    "squares_set = {x ** 2 for x in range(1, 6)}\n",
    "\n",
    "# Print the set\n",
    "print(\"Set of squares:\", squares_set)\n"
   ]
  },
  {
   "cell_type": "markdown",
   "id": "c7ad9cbb-ca78-4b40-a9c9-3aa73322bb0b",
   "metadata": {},
   "source": [
    "# Q26. Filter out all even numbers from a set."
   ]
  },
  {
   "cell_type": "code",
   "execution_count": 98,
   "id": "3f19177d-daec-4cf1-834e-0c89d034668e",
   "metadata": {},
   "outputs": [
    {
     "name": "stdout",
     "output_type": "stream",
     "text": [
      "Filtered Set (without even numbers): {1, 3, 5, 7, 9}\n"
     ]
    }
   ],
   "source": [
    "# Create a set\n",
    "original_set = {1, 2, 3, 4, 5, 6, 7, 8, 9, 10}\n",
    "\n",
    "# Filter out all even numbers using a set comprehension\n",
    "filtered_set = {x for x in original_set if x % 2 != 0}\n",
    "\n",
    "# Print the filtered set\n",
    "print(\"Filtered Set (without even numbers):\", filtered_set)\n"
   ]
  },
  {
   "cell_type": "markdown",
   "id": "fbb3f0b9-6ebe-425e-89bb-34590972942b",
   "metadata": {},
   "source": [
    "# Q27. Multiply all elements in a set by 2."
   ]
  },
  {
   "cell_type": "code",
   "execution_count": 99,
   "id": "8012d27f-0eb9-4659-a5f6-4206338d1e47",
   "metadata": {},
   "outputs": [
    {
     "name": "stdout",
     "output_type": "stream",
     "text": [
      "Multiplied Set: {2, 4, 6, 8, 10}\n"
     ]
    }
   ],
   "source": [
    "# Create a set\n",
    "original_set = {1, 2, 3, 4, 5}\n",
    "\n",
    "# Multiply all elements by 2 using a set comprehension\n",
    "multiplied_set = {x * 2 for x in original_set}\n",
    "\n",
    "# Print the multiplied set\n",
    "print(\"Multiplied Set:\", multiplied_set)\n"
   ]
  },
  {
   "cell_type": "markdown",
   "id": "7d59f1e9-93fd-4942-9117-41dd76fac561",
   "metadata": {},
   "source": [
    "# Q28. Create a set of random numbers."
   ]
  },
  {
   "cell_type": "code",
   "execution_count": 100,
   "id": "aae63e05-bb6b-43c4-9df5-21a033cd1c2c",
   "metadata": {},
   "outputs": [
    {
     "name": "stdout",
     "output_type": "stream",
     "text": [
      "Random Set: {1, 2, 3, 9}\n"
     ]
    }
   ],
   "source": [
    "import random\n",
    "\n",
    "# Generate a set of 5 random numbers between 1 and 10\n",
    "random_set = {random.randint(1, 10) for _ in range(5)}\n",
    "\n",
    "# Print the random set\n",
    "print(\"Random Set:\", random_set)\n"
   ]
  },
  {
   "cell_type": "markdown",
   "id": "45ba0ed0-f31a-49bd-bcd4-a929b8c42bb8",
   "metadata": {},
   "source": [
    "# Q29. Check if a set is empty."
   ]
  },
  {
   "cell_type": "code",
   "execution_count": 101,
   "id": "640a99cc-9444-48fa-8a3b-6f135c6bf5ef",
   "metadata": {},
   "outputs": [
    {
     "name": "stdout",
     "output_type": "stream",
     "text": [
      "Is the set empty? True\n"
     ]
    }
   ],
   "source": [
    "# Create an empty set\n",
    "empty_set = set()\n",
    "\n",
    "# Check if the set is empty using len()\n",
    "is_empty = len(empty_set) == 0\n",
    "\n",
    "# Print the result\n",
    "print(\"Is the set empty?\", is_empty)\n"
   ]
  },
  {
   "cell_type": "markdown",
   "id": "4c977b60-becb-4cbd-b0c5-55575cd30471",
   "metadata": {},
   "source": [
    "# Q30. Create a nested set (hint: use frozenset)."
   ]
  },
  {
   "cell_type": "code",
   "execution_count": 102,
   "id": "cfb5b871-a9a9-40c9-9acb-2d42816f7411",
   "metadata": {},
   "outputs": [
    {
     "name": "stdout",
     "output_type": "stream",
     "text": [
      "Nested Set: {frozenset({3, 4, 5}), frozenset({8, 6, 7}), frozenset({1, 2})}\n"
     ]
    }
   ],
   "source": [
    "# Create nested sets using frozenset\n",
    "nested_set = {frozenset({1, 2}), frozenset({3, 4, 5}), frozenset({6, 7, 8})}\n",
    "\n",
    "# Print the nested set\n",
    "print(\"Nested Set:\", nested_set)\n"
   ]
  },
  {
   "cell_type": "markdown",
   "id": "04f1f206-0224-4589-b5b4-efa665177373",
   "metadata": {},
   "source": [
    "# Q31. Remove an element from a set using the discard method."
   ]
  },
  {
   "cell_type": "code",
   "execution_count": 103,
   "id": "0d8c1c9e-8f03-4b47-b032-de079223af5e",
   "metadata": {},
   "outputs": [
    {
     "name": "stdout",
     "output_type": "stream",
     "text": [
      "Set after removing 3 : {1, 2, 4, 5}\n"
     ]
    }
   ],
   "source": [
    "# Create a set\n",
    "my_set = {1, 2, 3, 4, 5}\n",
    "\n",
    "# Remove an element using the discard method\n",
    "element_to_remove = 3\n",
    "my_set.discard(element_to_remove)\n",
    "\n",
    "# Print the set after removal\n",
    "print(\"Set after removing\", element_to_remove, \":\", my_set)\n"
   ]
  },
  {
   "cell_type": "markdown",
   "id": "e9367fee-66df-40ef-947c-095fb9952822",
   "metadata": {},
   "source": [
    "# Q32. Compare two sets."
   ]
  },
  {
   "cell_type": "code",
   "execution_count": 104,
   "id": "82c99b6c-db98-402e-87d3-6ea447d5c160",
   "metadata": {},
   "outputs": [
    {
     "name": "stdout",
     "output_type": "stream",
     "text": [
      "Are the sets equal? True\n"
     ]
    }
   ],
   "source": [
    "# Create two sets\n",
    "set1 = {1, 2, 3, 4, 5}\n",
    "set2 = {5, 4, 3, 2, 1}\n",
    "\n",
    "# Check if sets are equal\n",
    "are_equal = set1 == set2\n",
    "\n",
    "# Print the result\n",
    "print(\"Are the sets equal?\", are_equal)\n"
   ]
  },
  {
   "cell_type": "markdown",
   "id": "eb505b47-81bf-4631-b7a9-b6a7a6dea641",
   "metadata": {},
   "source": [
    "# Q33. Create a set from a string."
   ]
  },
  {
   "cell_type": "code",
   "execution_count": 105,
   "id": "e6513ace-921a-4fdd-9dbe-0455dcbb1f35",
   "metadata": {},
   "outputs": [
    {
     "name": "stdout",
     "output_type": "stream",
     "text": [
      "Set created from string: {'o', 'l', 'h', 'e'}\n"
     ]
    }
   ],
   "source": [
    "# Create a string\n",
    "my_string = \"hello\"\n",
    "\n",
    "# Create a set from the string\n",
    "my_set = set(my_string)\n",
    "\n",
    "# Print the set\n",
    "print(\"Set created from string:\", my_set)\n"
   ]
  },
  {
   "cell_type": "markdown",
   "id": "d494d64b-b077-4a8f-b493-e16856dda936",
   "metadata": {},
   "source": [
    "# Q34. Convert a set of strings to a set of integers."
   ]
  },
  {
   "cell_type": "code",
   "execution_count": 106,
   "id": "3a262160-8f16-4430-8f7c-791a6ce03c83",
   "metadata": {},
   "outputs": [
    {
     "name": "stdout",
     "output_type": "stream",
     "text": [
      "Set of integers: {1, 2, 3, 4, 5}\n"
     ]
    }
   ],
   "source": [
    "# Create a set of strings\n",
    "set_of_strings = {\"1\", \"2\", \"3\", \"4\", \"5\"}\n",
    "\n",
    "# Convert the set of strings to a set of integers\n",
    "set_of_integers = {int(x) for x in set_of_strings}\n",
    "\n",
    "# Print the set of integers\n",
    "print(\"Set of integers:\", set_of_integers)\n"
   ]
  },
  {
   "cell_type": "markdown",
   "id": "276e1618-329e-4b33-aa0a-6e374f253aef",
   "metadata": {},
   "source": [
    "# Q35. Convert a set of integers to a set of strings."
   ]
  },
  {
   "cell_type": "code",
   "execution_count": 107,
   "id": "8b23af76-00c6-49bd-ba02-c8a92963a901",
   "metadata": {},
   "outputs": [
    {
     "name": "stdout",
     "output_type": "stream",
     "text": [
      "Set of strings: {'5', '4', '1', '2', '3'}\n"
     ]
    }
   ],
   "source": [
    "# Create a set of integers\n",
    "set_of_integers = {1, 2, 3, 4, 5}\n",
    "\n",
    "# Convert the set of integers to a set of strings\n",
    "set_of_strings = {str(x) for x in set_of_integers}\n",
    "\n",
    "# Print the set of strings\n",
    "print(\"Set of strings:\", set_of_strings)\n"
   ]
  },
  {
   "cell_type": "markdown",
   "id": "f2f6fffd-1a5f-4a54-8f96-bf5fc4e47011",
   "metadata": {},
   "source": [
    "# Q36. Create a set from a tuple."
   ]
  },
  {
   "cell_type": "code",
   "execution_count": 108,
   "id": "8849d974-1532-4504-a45c-ba2fb084f164",
   "metadata": {},
   "outputs": [
    {
     "name": "stdout",
     "output_type": "stream",
     "text": [
      "Set created from tuple: {1, 2, 3, 4, 5}\n"
     ]
    }
   ],
   "source": [
    "# Create a tuple\n",
    "my_tuple = (1, 2, 3, 4, 5)\n",
    "\n",
    "# Create a set from the tuple\n",
    "my_set = set(my_tuple)\n",
    "\n",
    "# Print the set\n",
    "print(\"Set created from tuple:\", my_set)\n"
   ]
  },
  {
   "cell_type": "markdown",
   "id": "782f0975-b2d6-4165-992e-147056a795c1",
   "metadata": {},
   "source": [
    "# Q37. Convert a set to a tuple."
   ]
  },
  {
   "cell_type": "code",
   "execution_count": 110,
   "id": "967bbeb2-209d-4f9c-946e-cd41109797cc",
   "metadata": {},
   "outputs": [
    {
     "name": "stdout",
     "output_type": "stream",
     "text": [
      "Tuple created from set: True\n"
     ]
    }
   ],
   "source": [
    "# Create a set\n",
    "my_set = {1, 2, 3, 4, 5}\n",
    "\n",
    "# Convert the set to a tuple\n",
    "my_tuple = all(my_set)\n",
    "\n",
    "# Print the tuple\n",
    "print(\"Tuple created from set:\", my_tuple)\n"
   ]
  },
  {
   "cell_type": "markdown",
   "id": "106ee260-7c4f-4a20-983a-bcdc775773db",
   "metadata": {},
   "source": [
    "# Q38. Find the maximum value in a set."
   ]
  },
  {
   "cell_type": "code",
   "execution_count": 111,
   "id": "b5770694-34c1-465b-9c51-f94d4b3d3e18",
   "metadata": {},
   "outputs": [
    {
     "name": "stdout",
     "output_type": "stream",
     "text": [
      "Maximum value in the set: 8\n"
     ]
    }
   ],
   "source": [
    "# Create a set\n",
    "my_set = {1, 4, 2, 8, 5}\n",
    "\n",
    "# Find the maximum value in the set\n",
    "max_value = max(my_set)\n",
    "\n",
    "# Print the maximum value\n",
    "print(\"Maximum value in the set:\", max_value)\n"
   ]
  },
  {
   "cell_type": "markdown",
   "id": "7736a214-20b9-44c6-8cf9-3679e6fd4904",
   "metadata": {},
   "source": [
    "# Q39. Find the minimum value in a set."
   ]
  },
  {
   "cell_type": "code",
   "execution_count": 112,
   "id": "9aaf50a6-6f4d-4f6a-8984-f635452d0780",
   "metadata": {},
   "outputs": [
    {
     "name": "stdout",
     "output_type": "stream",
     "text": [
      "Minimum value in the set: 1\n"
     ]
    }
   ],
   "source": [
    "# Create a set\n",
    "my_set = {1, 4, 2, 8, 5}\n",
    "\n",
    "# Find the minimum value in the set\n",
    "min_value = min(my_set)\n",
    "\n",
    "# Print the minimum value\n",
    "print(\"Minimum value in the set:\", min_value)\n"
   ]
  },
  {
   "cell_type": "markdown",
   "id": "8bb620af-9116-4cf7-a6f7-c599854e0613",
   "metadata": {},
   "source": [
    "# Q40. Create a set from user input."
   ]
  },
  {
   "cell_type": "code",
   "execution_count": 113,
   "id": "98388202-74b1-4689-a965-e4919de56ceb",
   "metadata": {},
   "outputs": [
    {
     "name": "stdin",
     "output_type": "stream",
     "text": [
      "Enter elements separated by commas:  1,1,2,2,3,3\n"
     ]
    },
    {
     "name": "stdout",
     "output_type": "stream",
     "text": [
      "Set created from user input: {'2', '3', '1'}\n"
     ]
    }
   ],
   "source": [
    "# Get user input as a comma-separated string of elements\n",
    "user_input_str = input(\"Enter elements separated by commas: \")\n",
    "\n",
    "# Convert the input string to a set\n",
    "user_set = set(user_input_str.split(','))\n",
    "\n",
    "# Print the set\n",
    "print(\"Set created from user input:\", user_set)\n"
   ]
  },
  {
   "cell_type": "markdown",
   "id": "8d2a3295-169b-4eb5-9d34-a13587bbb440",
   "metadata": {},
   "source": [
    "# Q41. Check if the intersection of two sets is empty."
   ]
  },
  {
   "cell_type": "code",
   "execution_count": 114,
   "id": "e707f091-3c21-4fe5-a83d-91c4d0addc7b",
   "metadata": {},
   "outputs": [
    {
     "name": "stdout",
     "output_type": "stream",
     "text": [
      "Is the intersection empty? True\n"
     ]
    }
   ],
   "source": [
    "# Create two sets\n",
    "set1 = {1, 2, 3}\n",
    "set2 = {4, 5, 6}\n",
    "\n",
    "# Check if the intersection is empty using isdisjoint()\n",
    "intersection_empty = set1.isdisjoint(set2)\n",
    "\n",
    "# Print the result\n",
    "print(\"Is the intersection empty?\", intersection_empty)\n"
   ]
  },
  {
   "cell_type": "markdown",
   "id": "2206b355-120e-45b9-a037-fbc174110158",
   "metadata": {},
   "source": [
    "# Q42. Create a set of the first 5 Fibonacci numbers."
   ]
  },
  {
   "cell_type": "code",
   "execution_count": 115,
   "id": "75cc1470-7e06-442c-ab46-7bbfaef8107d",
   "metadata": {},
   "outputs": [
    {
     "name": "stdout",
     "output_type": "stream",
     "text": [
      "Set of the first 5 Fibonacci numbers: {0, 1, 2, 3}\n"
     ]
    }
   ],
   "source": [
    "# Function to generate Fibonacci numbers\n",
    "def generate_fibonacci(n):\n",
    "    fibonacci_set = set()\n",
    "    a, b = 0, 1\n",
    "    for _ in range(n):\n",
    "        fibonacci_set.add(a)\n",
    "        a, b = b, a + b\n",
    "    return fibonacci_set\n",
    "\n",
    "# Create a set of the first 5 Fibonacci numbers\n",
    "first_5_fibonacci = generate_fibonacci(5)\n",
    "\n",
    "# Print the set\n",
    "print(\"Set of the first 5 Fibonacci numbers:\", first_5_fibonacci)\n"
   ]
  },
  {
   "cell_type": "markdown",
   "id": "4efa764e-caeb-48ed-bc8f-00f41b6be0e4",
   "metadata": {},
   "source": [
    "# Q43. Remove duplicates from a list using sets."
   ]
  },
  {
   "cell_type": "code",
   "execution_count": 116,
   "id": "e1edf0cc-a618-4019-affd-cba84624ad65",
   "metadata": {},
   "outputs": [
    {
     "name": "stdout",
     "output_type": "stream",
     "text": [
      "List without duplicates: [1, 2, 3, 4, 5]\n"
     ]
    }
   ],
   "source": [
    "# Create a list with duplicates\n",
    "my_list = [1, 2, 2, 3, 4, 4, 5]\n",
    "\n",
    "# Remove duplicates using sets\n",
    "list_without_duplicates = list(set(my_list))\n",
    "\n",
    "# Print the list without duplicates\n",
    "print(\"List without duplicates:\", list_without_duplicates)\n"
   ]
  },
  {
   "cell_type": "markdown",
   "id": "91867f6a-211f-472d-a469-2810977e9f32",
   "metadata": {},
   "source": [
    "# Q45. Create a set of the first `n` powers of 2."
   ]
  },
  {
   "cell_type": "code",
   "execution_count": 117,
   "id": "71860316-cfaf-4e48-85a5-3fdc611cc8b3",
   "metadata": {},
   "outputs": [
    {
     "name": "stdout",
     "output_type": "stream",
     "text": [
      "Set of the first 5 powers of 2: {1, 2, 4, 8, 16}\n"
     ]
    }
   ],
   "source": [
    "# Function to generate the first n powers of 2\n",
    "def generate_powers_of_2(n):\n",
    "    powers_of_2_set = {2 ** i for i in range(n)}\n",
    "    return powers_of_2_set\n",
    "\n",
    "# Create a set of the first 5 powers of 2\n",
    "first_5_powers_of_2 = generate_powers_of_2(5)\n",
    "\n",
    "# Print the set\n",
    "print(\"Set of the first 5 powers of 2:\", first_5_powers_of_2)\n"
   ]
  },
  {
   "cell_type": "markdown",
   "id": "e2824356-989c-4df0-8bac-20b4bb6d1582",
   "metadata": {},
   "source": [
    "# Q46. Find the common elements between a set and a list."
   ]
  },
  {
   "cell_type": "code",
   "execution_count": 119,
   "id": "ade3b500-5709-41d3-802d-57b30555e34c",
   "metadata": {},
   "outputs": [
    {
     "name": "stdout",
     "output_type": "stream",
     "text": [
      "Common elements using intersection() method: {3, 4, 5}\n"
     ]
    }
   ],
   "source": [
    "# Create a set and a list\n",
    "my_set = {1, 2, 3, 4, 5}\n",
    "my_list = [3, 4, 5, 6, 7]\n",
    "\n",
    "# Find the common elements using intersection() method\n",
    "common_elements_method = my_set.intersection(my_list)\n",
    "\n",
    "# Alternatively, you can use the & operator\n",
    "# common_elements_operator = my_set & set(my_list)\n",
    "\n",
    "# Print the common elements\n",
    "print(\"Common elements using intersection() method:\", common_elements_method)\n",
    "# print(\"Common elements using & operator:\", common_elements_operator)\n"
   ]
  },
  {
   "cell_type": "markdown",
   "id": "8b821066-0740-436d-b66a-2949e6928860",
   "metadata": {},
   "source": [
    "# Q50. Merge multiple sets into one."
   ]
  },
  {
   "cell_type": "code",
   "execution_count": 118,
   "id": "9535b3fb-8243-476b-8181-376d9d9b8639",
   "metadata": {},
   "outputs": [
    {
     "name": "stdout",
     "output_type": "stream",
     "text": [
      "Merged set using union() method: {1, 2, 3, 4, 5, 6, 7}\n"
     ]
    }
   ],
   "source": [
    "# Create three sets\n",
    "set1 = {1, 2, 3}\n",
    "set2 = {3, 4, 5}\n",
    "set3 = {5, 6, 7}\n",
    "\n",
    "# Merge sets using union() method\n",
    "merged_set_method = set1.union(set2, set3)\n",
    "\n",
    "# Alternatively, you can use the | operator\n",
    "# merged_set_operator = set1 | set2 | set3\n",
    "\n",
    "# Print the merged set\n",
    "print(\"Merged set using union() method:\", merged_set_method)\n",
    "# print(\"Merged set using | operator:\", merged_set_operator)\n"
   ]
  },
  {
   "cell_type": "code",
   "execution_count": null,
   "id": "9fa7bae0-829c-4ddd-b682-ce521c6fdee4",
   "metadata": {},
   "outputs": [],
   "source": []
  }
 ],
 "metadata": {
  "kernelspec": {
   "display_name": "Python 3 (ipykernel)",
   "language": "python",
   "name": "python3"
  },
  "language_info": {
   "codemirror_mode": {
    "name": "ipython",
    "version": 3
   },
   "file_extension": ".py",
   "mimetype": "text/x-python",
   "name": "python",
   "nbconvert_exporter": "python",
   "pygments_lexer": "ipython3",
   "version": "3.10.8"
  }
 },
 "nbformat": 4,
 "nbformat_minor": 5
}
